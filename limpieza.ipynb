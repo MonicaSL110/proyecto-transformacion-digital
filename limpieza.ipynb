{
 "cells": [
  {
   "cell_type": "markdown",
   "metadata": {},
   "source": [
    "## Archivo dedicado a la limpieza de las columnas después de la unión."
   ]
  },
  {
   "cell_type": "code",
   "execution_count": 36,
   "metadata": {},
   "outputs": [],
   "source": [
    "import pandas as pd\n",
    "import numpy as np\n",
    "pd.options.display.max_columns=None\n",
    "pd.options.display.max_rows=None"
   ]
  },
  {
   "cell_type": "code",
   "execution_count": 37,
   "metadata": {},
   "outputs": [
    {
     "data": {
      "text/html": [
       "<div>\n",
       "<style scoped>\n",
       "    .dataframe tbody tr th:only-of-type {\n",
       "        vertical-align: middle;\n",
       "    }\n",
       "\n",
       "    .dataframe tbody tr th {\n",
       "        vertical-align: top;\n",
       "    }\n",
       "\n",
       "    .dataframe thead th {\n",
       "        text-align: right;\n",
       "    }\n",
       "</style>\n",
       "<table border=\"1\" class=\"dataframe\">\n",
       "  <thead>\n",
       "    <tr style=\"text-align: right;\">\n",
       "      <th></th>\n",
       "      <th>Unnamed: 0</th>\n",
       "      <th>time</th>\n",
       "      <th>age</th>\n",
       "      <th>gender</th>\n",
       "      <th>Q3</th>\n",
       "      <th>Q4</th>\n",
       "      <th>Q5</th>\n",
       "      <th>Q6</th>\n",
       "      <th>Q8</th>\n",
       "      <th>Q11</th>\n",
       "      <th>Q13</th>\n",
       "      <th>Q15</th>\n",
       "      <th>Q20</th>\n",
       "      <th>Q21</th>\n",
       "      <th>Q22</th>\n",
       "      <th>Q23</th>\n",
       "      <th>Q25</th>\n",
       "      <th>Q26</th>\n",
       "      <th>Q33</th>\n",
       "      <th>Q35</th>\n",
       "      <th>Q41</th>\n",
       "      <th>Q7</th>\n",
       "      <th>Q9</th>\n",
       "      <th>Q12</th>\n",
       "      <th>Q14</th>\n",
       "      <th>Q16</th>\n",
       "      <th>Q17</th>\n",
       "      <th>Q24</th>\n",
       "      <th>Q32</th>\n",
       "      <th>Q34</th>\n",
       "      <th>Q28</th>\n",
       "      <th>Q10</th>\n",
       "      <th>Q18</th>\n",
       "      <th>Q19</th>\n",
       "      <th>Q27-A</th>\n",
       "      <th>Q29-A</th>\n",
       "      <th>Q30-A</th>\n",
       "      <th>Q31-A</th>\n",
       "      <th>Q36-A</th>\n",
       "      <th>Q37-A</th>\n",
       "      <th>Q38-A</th>\n",
       "      <th>Q39</th>\n",
       "      <th>Q40</th>\n",
       "      <th>Q42</th>\n",
       "      <th>Q27-B</th>\n",
       "      <th>Q29-B</th>\n",
       "      <th>Q30-B</th>\n",
       "      <th>Q31-B</th>\n",
       "      <th>Q32-B</th>\n",
       "      <th>Q34-B</th>\n",
       "      <th>Q36-B</th>\n",
       "      <th>Q37-B</th>\n",
       "      <th>Q38-B</th>\n",
       "    </tr>\n",
       "  </thead>\n",
       "  <tbody>\n",
       "    <tr>\n",
       "      <th>0</th>\n",
       "      <td>0</td>\n",
       "      <td>910</td>\n",
       "      <td>50-54</td>\n",
       "      <td>Man</td>\n",
       "      <td>India</td>\n",
       "      <td>Bachelor’s degree</td>\n",
       "      <td>Other</td>\n",
       "      <td>5-10 years</td>\n",
       "      <td>Python</td>\n",
       "      <td>A laptop</td>\n",
       "      <td>2-5 times</td>\n",
       "      <td>5-10 years</td>\n",
       "      <td>Manufacturing/Fabrication</td>\n",
       "      <td>50-249 employees</td>\n",
       "      <td>3-4</td>\n",
       "      <td>No (we do not use ML methods)</td>\n",
       "      <td>25,000-29,999</td>\n",
       "      <td>$100-$999</td>\n",
       "      <td>NaN</td>\n",
       "      <td>NaN</td>\n",
       "      <td>Local development environments (RStudio, Jupyt...</td>\n",
       "      <td>Python, R</td>\n",
       "      <td>Vim / Emacs</td>\n",
       "      <td>Google Cloud TPUs</td>\n",
       "      <td>Matplotlib ,Seaborn ,Ggplot / ggplot2 ,Shiny ...</td>\n",
       "      <td>Scikit-learn , TensorFlow ,Caret</td>\n",
       "      <td>Linear or Logistic Regression, Decision Trees ...</td>\n",
       "      <td>None of these activities are an important par...</td>\n",
       "      <td>PostgreSQL</td>\n",
       "      <td>None</td>\n",
       "      <td>NaN</td>\n",
       "      <td>Colab Notebooks</td>\n",
       "      <td>General purpose image/video tools (PIL, cv2, s...</td>\n",
       "      <td>Word embeddings/vectors (GLoVe, fastText, word...</td>\n",
       "      <td>Google Cloud Platform (GCP)</td>\n",
       "      <td>Google Cloud Compute Engine</td>\n",
       "      <td>Google Cloud Storage (GCS)</td>\n",
       "      <td>No / None</td>\n",
       "      <td>No / None</td>\n",
       "      <td>NaN</td>\n",
       "      <td>No / None</td>\n",
       "      <td>GitHub ,  Kaggle</td>\n",
       "      <td>Coursera, edX, Kaggle Learn Courses, DataCamp,...</td>\n",
       "      <td>Email newsletters (Data Elixir, O'Reilly Data ...</td>\n",
       "      <td>NaN</td>\n",
       "      <td>NaN</td>\n",
       "      <td>NaN</td>\n",
       "      <td>NaN</td>\n",
       "      <td>NaN</td>\n",
       "      <td>NaN</td>\n",
       "      <td>NaN</td>\n",
       "      <td>NaN</td>\n",
       "      <td>NaN</td>\n",
       "    </tr>\n",
       "    <tr>\n",
       "      <th>1</th>\n",
       "      <td>1</td>\n",
       "      <td>784</td>\n",
       "      <td>50-54</td>\n",
       "      <td>Man</td>\n",
       "      <td>Indonesia</td>\n",
       "      <td>Master’s degree</td>\n",
       "      <td>Program/Project Manager</td>\n",
       "      <td>20+ years</td>\n",
       "      <td>Python</td>\n",
       "      <td>A cloud computing platform (AWS, Azure, GCP, h...</td>\n",
       "      <td>Never</td>\n",
       "      <td>&lt; 1 year</td>\n",
       "      <td>Manufacturing/Fabrication</td>\n",
       "      <td>1000-9,999 employees</td>\n",
       "      <td>1-2</td>\n",
       "      <td>We are exploring ML methods (and may one day p...</td>\n",
       "      <td>60,000-69,999</td>\n",
       "      <td>$0 ($USD)</td>\n",
       "      <td>NaN</td>\n",
       "      <td>NaN</td>\n",
       "      <td>Advanced statistical software (SPSS, SAS, etc.)</td>\n",
       "      <td>SQL, C, C++, Java</td>\n",
       "      <td>Notepad++,Jupyter Notebook</td>\n",
       "      <td>None</td>\n",
       "      <td>Matplotlib</td>\n",
       "      <td>Scikit-learn</td>\n",
       "      <td>Linear or Logistic Regression, Decision Trees ...</td>\n",
       "      <td>Build and/or run the data infrastructure that...</td>\n",
       "      <td>NaN</td>\n",
       "      <td>NaN</td>\n",
       "      <td>NaN</td>\n",
       "      <td>Kaggle Notebooks, Colab Notebooks</td>\n",
       "      <td>NaN</td>\n",
       "      <td>NaN</td>\n",
       "      <td>NaN</td>\n",
       "      <td>NaN</td>\n",
       "      <td>NaN</td>\n",
       "      <td>NaN</td>\n",
       "      <td>NaN</td>\n",
       "      <td>NaN</td>\n",
       "      <td>NaN</td>\n",
       "      <td>NaN</td>\n",
       "      <td>Kaggle Learn Courses, Cloud-certification prog...</td>\n",
       "      <td>Journal Publications (peer-reviewed journals, ...</td>\n",
       "      <td>Google Cloud Platform (GCP) ,  Oracle Cloud</td>\n",
       "      <td>Google Cloud Compute Engine</td>\n",
       "      <td>NaN</td>\n",
       "      <td>NaN</td>\n",
       "      <td>MySQL , SQLite , Oracle Database , Google Clou...</td>\n",
       "      <td>Google Data Studio, Qlik</td>\n",
       "      <td>Automated model selection (e.g. auto-sklearn, ...</td>\n",
       "      <td>Google Cloud AutoML</td>\n",
       "      <td>NaN</td>\n",
       "    </tr>\n",
       "  </tbody>\n",
       "</table>\n",
       "</div>"
      ],
      "text/plain": [
       "   Unnamed: 0  time    age gender         Q3                 Q4  \\\n",
       "0           0   910  50-54    Man      India  Bachelor’s degree   \n",
       "1           1   784  50-54    Man  Indonesia    Master’s degree   \n",
       "\n",
       "                        Q5          Q6      Q8  \\\n",
       "0                    Other  5-10 years  Python   \n",
       "1  Program/Project Manager   20+ years  Python   \n",
       "\n",
       "                                                 Q11        Q13         Q15  \\\n",
       "0                                           A laptop  2-5 times  5-10 years   \n",
       "1  A cloud computing platform (AWS, Azure, GCP, h...      Never    < 1 year   \n",
       "\n",
       "                         Q20                   Q21  Q22  \\\n",
       "0  Manufacturing/Fabrication      50-249 employees  3-4   \n",
       "1  Manufacturing/Fabrication  1000-9,999 employees  1-2   \n",
       "\n",
       "                                                 Q23            Q25  \\\n",
       "0                      No (we do not use ML methods)  25,000-29,999   \n",
       "1  We are exploring ML methods (and may one day p...  60,000-69,999   \n",
       "\n",
       "         Q26  Q33  Q35                                                Q41  \\\n",
       "0  $100-$999  NaN  NaN  Local development environments (RStudio, Jupyt...   \n",
       "1  $0 ($USD)  NaN  NaN    Advanced statistical software (SPSS, SAS, etc.)   \n",
       "\n",
       "                   Q7                           Q9                 Q12  \\\n",
       "0           Python, R                  Vim / Emacs  Google Cloud TPUs    \n",
       "1   SQL, C, C++, Java   Notepad++,Jupyter Notebook                None   \n",
       "\n",
       "                                                 Q14  \\\n",
       "0   Matplotlib ,Seaborn ,Ggplot / ggplot2 ,Shiny ...   \n",
       "1                                        Matplotlib    \n",
       "\n",
       "                                 Q16  \\\n",
       "0  Scikit-learn , TensorFlow ,Caret    \n",
       "1                      Scikit-learn    \n",
       "\n",
       "                                                 Q17  \\\n",
       "0  Linear or Logistic Regression, Decision Trees ...   \n",
       "1  Linear or Logistic Regression, Decision Trees ...   \n",
       "\n",
       "                                                 Q24           Q32    Q34  \\\n",
       "0   None of these activities are an important par...   PostgreSQL    None   \n",
       "1   Build and/or run the data infrastructure that...           NaN    NaN   \n",
       "\n",
       "   Q28                                 Q10  \\\n",
       "0  NaN                     Colab Notebooks   \n",
       "1  NaN   Kaggle Notebooks, Colab Notebooks   \n",
       "\n",
       "                                                 Q18  \\\n",
       "0  General purpose image/video tools (PIL, cv2, s...   \n",
       "1                                                NaN   \n",
       "\n",
       "                                                 Q19  \\\n",
       "0  Word embeddings/vectors (GLoVe, fastText, word...   \n",
       "1                                                NaN   \n",
       "\n",
       "                           Q27-A                          Q29-A  \\\n",
       "0   Google Cloud Platform (GCP)    Google Cloud Compute Engine    \n",
       "1                            NaN                            NaN   \n",
       "\n",
       "                           Q30-A      Q31-A      Q36-A Q37-A      Q38-A  \\\n",
       "0  Google Cloud Storage (GCS)     No / None  No / None   NaN  No / None   \n",
       "1                            NaN        NaN        NaN   NaN        NaN   \n",
       "\n",
       "                  Q39                                                Q40  \\\n",
       "0   GitHub ,  Kaggle   Coursera, edX, Kaggle Learn Courses, DataCamp,...   \n",
       "1                 NaN  Kaggle Learn Courses, Cloud-certification prog...   \n",
       "\n",
       "                                                 Q42  \\\n",
       "0  Email newsletters (Data Elixir, O'Reilly Data ...   \n",
       "1  Journal Publications (peer-reviewed journals, ...   \n",
       "\n",
       "                                           Q27-B  \\\n",
       "0                                            NaN   \n",
       "1   Google Cloud Platform (GCP) ,  Oracle Cloud    \n",
       "\n",
       "                           Q29-B  Q30-B Q31-B  \\\n",
       "0                            NaN    NaN   NaN   \n",
       "1   Google Cloud Compute Engine     NaN   NaN   \n",
       "\n",
       "                                               Q32-B  \\\n",
       "0                                                NaN   \n",
       "1  MySQL , SQLite , Oracle Database , Google Clou...   \n",
       "\n",
       "                      Q34-B  \\\n",
       "0                       NaN   \n",
       "1  Google Data Studio, Qlik   \n",
       "\n",
       "                                               Q36-B                  Q37-B  \\\n",
       "0                                                NaN                    NaN   \n",
       "1  Automated model selection (e.g. auto-sklearn, ...   Google Cloud AutoML    \n",
       "\n",
       "  Q38-B  \n",
       "0   NaN  \n",
       "1   NaN  "
      ]
     },
     "execution_count": 37,
     "metadata": {},
     "output_type": "execute_result"
    }
   ],
   "source": [
    "df = pd.read_csv('archivos_resultantes/columnas_unificadas.csv')\n",
    "df.head(2)"
   ]
  },
  {
   "cell_type": "code",
   "execution_count": 38,
   "metadata": {},
   "outputs": [
    {
     "data": {
      "text/plain": [
       "array(['5-10 years', '20+ years', '1-3 years', '< 1 years', '3-5 years',\n",
       "       '10-20 years', 'I have never written code'], dtype=object)"
      ]
     },
     "execution_count": 38,
     "metadata": {},
     "output_type": "execute_result"
    }
   ],
   "source": [
    "df['Q6'].unique()"
   ]
  },
  {
   "cell_type": "code",
   "execution_count": 39,
   "metadata": {},
   "outputs": [],
   "source": [
    "def limpieza_q6(elemento):\n",
    "    elemento = elemento.replace('years','').replace('I have never written code','No code').strip()\n",
    "    return elemento"
   ]
  },
  {
   "cell_type": "code",
   "execution_count": 40,
   "metadata": {},
   "outputs": [],
   "source": [
    "df['Q6'] = df['Q6'].apply(limpieza_q6)"
   ]
  },
  {
   "cell_type": "code",
   "execution_count": 42,
   "metadata": {},
   "outputs": [
    {
     "data": {
      "text/plain": [
       "array(['5-10', '20+', '1-3', '< 1', '3-5', '10-20', 'No code'],\n",
       "      dtype=object)"
      ]
     },
     "execution_count": 42,
     "metadata": {},
     "output_type": "execute_result"
    }
   ],
   "source": [
    "df['Q6'].unique()"
   ]
  },
  {
   "cell_type": "code",
   "execution_count": 43,
   "metadata": {},
   "outputs": [
    {
     "data": {
      "text/plain": [
       "array(['Bachelor’s degree', 'Master’s degree', 'Doctoral degree',\n",
       "       'I prefer not to answer',\n",
       "       'Some college/university study without earning a bachelor’s degree',\n",
       "       'No formal education past high school', 'Professional doctorate'],\n",
       "      dtype=object)"
      ]
     },
     "execution_count": 43,
     "metadata": {},
     "output_type": "execute_result"
    }
   ],
   "source": [
    "df['Q4'].unique()"
   ]
  },
  {
   "cell_type": "code",
   "execution_count": 44,
   "metadata": {},
   "outputs": [],
   "source": [
    "def limpieza_q4(elemento):\n",
    "    elemento = elemento.replace('I prefer not to answer','Not answer').replace('Some college/university study without earning a bachelor’s degree','University study, no bachelor').replace('No formal education past high school','High school').strip()\n",
    "    return elemento"
   ]
  },
  {
   "cell_type": "code",
   "execution_count": 45,
   "metadata": {},
   "outputs": [],
   "source": [
    "df['Q4'] = df['Q4'].apply(limpieza_q4)"
   ]
  },
  {
   "cell_type": "code",
   "execution_count": 46,
   "metadata": {},
   "outputs": [
    {
     "data": {
      "text/plain": [
       "array(['Bachelor’s degree', 'Master’s degree', 'Doctoral degree',\n",
       "       'Not answer', 'University study, no bachelor', 'High school',\n",
       "       'Professional doctorate'], dtype=object)"
      ]
     },
     "execution_count": 46,
     "metadata": {},
     "output_type": "execute_result"
    }
   ],
   "source": [
    "df['Q4'].unique()"
   ]
  }
 ],
 "metadata": {
  "kernelspec": {
   "display_name": "base",
   "language": "python",
   "name": "python3"
  },
  "language_info": {
   "codemirror_mode": {
    "name": "ipython",
    "version": 3
   },
   "file_extension": ".py",
   "mimetype": "text/x-python",
   "name": "python",
   "nbconvert_exporter": "python",
   "pygments_lexer": "ipython3",
   "version": "3.9.7"
  },
  "orig_nbformat": 4
 },
 "nbformat": 4,
 "nbformat_minor": 2
}
