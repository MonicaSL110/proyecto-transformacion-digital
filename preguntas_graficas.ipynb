{
 "cells": [
  {
   "cell_type": "code",
   "execution_count": null,
   "metadata": {},
   "outputs": [],
   "source": [
    "import pandas as pd\n",
    "import numpy as np\n",
    "pd.options.display.max_columns=None"
   ]
  },
  {
   "cell_type": "markdown",
   "metadata": {},
   "source": [
    "## Preguntas propuestas\n",
    "Ve qués se cobra generalmente para este campo. Buscar para analistas y business intelligence en Europa. Ver también diferencias entre géneros. Mujeres y hombres trabajando en el sector (con un quesito). Años de experiencia por géneros, ver si las mujeres se han ido incorporando más a este mercado o no. Ver nivel de estudios en relación con el puesto que ocupa Y los años experiencia.\n",
    "\n",
    "Estudio de mercado: Las personas que trabajan de estos puestos: tamaño empresa, industria... \n",
    "Machine learning: Cuánto invierten realmente en *Machine Learning*.\n",
    "\n",
    "Qué herramientas utilizan (realizar para todas las columnas).\n",
    "\n",
    "Hacer un filtro:\n",
    "\n",
    ".isin(): puestos - data analyst y business intelligence. Ver todas las herramientas de manera general. Hacerlo con **todas**. \n",
    "Filtro por género para buscar por mujeres. \n",
    "- Un dataframe para ver las herramientas: \n",
    "    - cómo varían las herramientas según los años de experiencia.\n",
    "\n",
    "\n",
    "Brecha salarial para mujeres y hombres en el mismo puesto. A tener en cuenta: mismos años, mismo puesto... ver si hay diferencia de salario real.\n",
    "\n",
    "Años de las mujeres que estén trabajando en el sector, para ver si hay edades que trabajen menos por cuestiones de maternidad, etc. \n",
    "\n",
    "\n",
    "¿Qué tipo de gráficas vamos a querer?\n",
    "\n",
    "- Graficas que hay:\n",
    "    - Barras. Las barras apiladas para poder los años de experiencia que tienen los hombres vs. mujeres, para comprobar si los hombres se mantienen en el sector más o menos que las mujeres.\n",
    "    - Dispersión. Quizá para ver la brecha salarial entre géneros, u otras cosas. \n",
    "    - Histogramas. Por ejemplo, para ver las edades, para las herramientas...\n",
    "    - Sectores(quesitos): Géneros en el sector. \n",
    "    - Violín. No vemos utilidad.\n",
    "    - De caja. No vemos utilidad. "
   ]
  },
  {
   "cell_type": "code",
   "execution_count": null,
   "metadata": {},
   "outputs": [],
   "source": [
    "def quitar_espacios(elemento):\n",
    "    '''\n",
    "    Esta función recoge elemento a elemento de una columna, quita los espacios de los lados y\n",
    "    devuelve el string modificado'''\n",
    "    try:\n",
    "        return elemento.strip()\n",
    "    except:\n",
    "        return np.nan"
   ]
  },
  {
   "cell_type": "code",
   "execution_count": null,
   "metadata": {},
   "outputs": [],
   "source": [
    "def explode_strip(dataframe,columna):\n",
    "    ''' \n",
    "    Esta función recoge el dataframe y la columna a modificar. Hace un explode de esa columna y quita los espacios de cada elemento.\n",
    "    Devuelve el dataframe modificado.'''\n",
    "    dataframe2 = dataframe.explode(columna)\n",
    "    dataframe2[columna] = dataframe2[columna].apply(quitar_espacios)\n",
    "    return dataframe2"
   ]
  },
  {
   "cell_type": "markdown",
   "metadata": {},
   "source": [
    "## Importante\n",
    "\n",
    "- Crear el Dataframe sólo con los países de Europa.\n",
    "- Quedarnos únicamente con Data Analyst y con Business Intelligence "
   ]
  },
  {
   "cell_type": "code",
   "execution_count": 1,
   "metadata": {},
   "outputs": [],
   "source": [
    "import pandas as pd\n",
    "import matplotlib.pyplot as plt\n",
    "import numpy as np\n",
    "import xml.etree.ElementTree as ET\n",
    "pd.options.display.max_columns=None"
   ]
  },
  {
   "cell_type": "code",
   "execution_count": 2,
   "metadata": {},
   "outputs": [
    {
     "data": {
      "text/html": [
       "<div>\n",
       "<style scoped>\n",
       "    .dataframe tbody tr th:only-of-type {\n",
       "        vertical-align: middle;\n",
       "    }\n",
       "\n",
       "    .dataframe tbody tr th {\n",
       "        vertical-align: top;\n",
       "    }\n",
       "\n",
       "    .dataframe thead th {\n",
       "        text-align: right;\n",
       "    }\n",
       "</style>\n",
       "<table border=\"1\" class=\"dataframe\">\n",
       "  <thead>\n",
       "    <tr style=\"text-align: right;\">\n",
       "      <th></th>\n",
       "      <th>time</th>\n",
       "      <th>age</th>\n",
       "      <th>gender</th>\n",
       "      <th>Q3</th>\n",
       "      <th>Q4</th>\n",
       "      <th>Q5</th>\n",
       "      <th>Q6</th>\n",
       "      <th>Q8</th>\n",
       "      <th>Q11</th>\n",
       "      <th>Q13</th>\n",
       "      <th>Q15</th>\n",
       "      <th>Q20</th>\n",
       "      <th>Q21</th>\n",
       "      <th>Q22</th>\n",
       "      <th>Q23</th>\n",
       "      <th>Q25</th>\n",
       "      <th>Q26</th>\n",
       "      <th>Q33</th>\n",
       "      <th>Q35</th>\n",
       "      <th>Q41</th>\n",
       "      <th>Q7</th>\n",
       "      <th>Q9</th>\n",
       "      <th>Q12</th>\n",
       "      <th>Q14</th>\n",
       "      <th>Q16</th>\n",
       "      <th>Q17</th>\n",
       "      <th>Q24</th>\n",
       "      <th>Q32</th>\n",
       "      <th>Q34</th>\n",
       "      <th>Q28</th>\n",
       "      <th>Q10</th>\n",
       "      <th>Q18</th>\n",
       "      <th>Q19</th>\n",
       "      <th>Q27-A</th>\n",
       "      <th>Q29-A</th>\n",
       "      <th>Q30-A</th>\n",
       "      <th>Q31-A</th>\n",
       "      <th>Q36-A</th>\n",
       "      <th>Q37-A</th>\n",
       "      <th>Q38-A</th>\n",
       "      <th>Q39</th>\n",
       "      <th>Q40</th>\n",
       "      <th>Q42</th>\n",
       "      <th>Q27-B</th>\n",
       "      <th>Q29-B</th>\n",
       "      <th>Q30-B</th>\n",
       "      <th>Q31-B</th>\n",
       "      <th>Q32-B</th>\n",
       "      <th>Q34-B</th>\n",
       "      <th>Q36-B</th>\n",
       "      <th>Q37-B</th>\n",
       "      <th>Q38-B</th>\n",
       "    </tr>\n",
       "  </thead>\n",
       "  <tbody>\n",
       "    <tr>\n",
       "      <th>0</th>\n",
       "      <td>910</td>\n",
       "      <td>50-54</td>\n",
       "      <td>Man</td>\n",
       "      <td>India</td>\n",
       "      <td>Bachelor’s degree</td>\n",
       "      <td>Other</td>\n",
       "      <td>5-10 years</td>\n",
       "      <td>Python</td>\n",
       "      <td>A laptop</td>\n",
       "      <td>2-5 times</td>\n",
       "      <td>5-10 years</td>\n",
       "      <td>Manufacturing/Fabrication</td>\n",
       "      <td>50-249 employees</td>\n",
       "      <td>3-4</td>\n",
       "      <td>No (we do not use ML methods)</td>\n",
       "      <td>25,000-29,999</td>\n",
       "      <td>$100-$999</td>\n",
       "      <td>NaN</td>\n",
       "      <td>NaN</td>\n",
       "      <td>Local development environments (RStudio, Jupyt...</td>\n",
       "      <td>Python, R</td>\n",
       "      <td>Vim / Emacs</td>\n",
       "      <td>Google Cloud TPUs</td>\n",
       "      <td>Matplotlib ,Seaborn ,Ggplot / ggplot2 ,Shiny ...</td>\n",
       "      <td>Scikit-learn , TensorFlow ,Caret</td>\n",
       "      <td>Linear or Logistic Regression, Decision Trees ...</td>\n",
       "      <td>None of these activities are an important par...</td>\n",
       "      <td>PostgreSQL</td>\n",
       "      <td>None</td>\n",
       "      <td>NaN</td>\n",
       "      <td>Colab Notebooks</td>\n",
       "      <td>General purpose image/video tools (PIL, cv2, s...</td>\n",
       "      <td>Word embeddings/vectors (GLoVe, fastText, word...</td>\n",
       "      <td>Google Cloud Platform (GCP)</td>\n",
       "      <td>Google Cloud Compute Engine</td>\n",
       "      <td>Google Cloud Storage (GCS)</td>\n",
       "      <td>No / None</td>\n",
       "      <td>No / None</td>\n",
       "      <td>NaN</td>\n",
       "      <td>No / None</td>\n",
       "      <td>GitHub ,  Kaggle</td>\n",
       "      <td>Coursera, edX, Kaggle Learn Courses, DataCamp,...</td>\n",
       "      <td>Email newsletters (Data Elixir, O'Reilly Data ...</td>\n",
       "      <td>NaN</td>\n",
       "      <td>NaN</td>\n",
       "      <td>NaN</td>\n",
       "      <td>NaN</td>\n",
       "      <td>NaN</td>\n",
       "      <td>NaN</td>\n",
       "      <td>NaN</td>\n",
       "      <td>NaN</td>\n",
       "      <td>NaN</td>\n",
       "    </tr>\n",
       "  </tbody>\n",
       "</table>\n",
       "</div>"
      ],
      "text/plain": [
       "   time    age gender     Q3                 Q4     Q5          Q6      Q8  \\\n",
       "0   910  50-54    Man  India  Bachelor’s degree  Other  5-10 years  Python   \n",
       "\n",
       "        Q11        Q13         Q15                        Q20  \\\n",
       "0  A laptop  2-5 times  5-10 years  Manufacturing/Fabrication   \n",
       "\n",
       "                Q21  Q22                            Q23            Q25  \\\n",
       "0  50-249 employees  3-4  No (we do not use ML methods)  25,000-29,999   \n",
       "\n",
       "         Q26  Q33  Q35                                                Q41  \\\n",
       "0  $100-$999  NaN  NaN  Local development environments (RStudio, Jupyt...   \n",
       "\n",
       "          Q7            Q9                 Q12  \\\n",
       "0  Python, R   Vim / Emacs  Google Cloud TPUs    \n",
       "\n",
       "                                                 Q14  \\\n",
       "0   Matplotlib ,Seaborn ,Ggplot / ggplot2 ,Shiny ...   \n",
       "\n",
       "                                 Q16  \\\n",
       "0  Scikit-learn , TensorFlow ,Caret    \n",
       "\n",
       "                                                 Q17  \\\n",
       "0  Linear or Logistic Regression, Decision Trees ...   \n",
       "\n",
       "                                                 Q24           Q32    Q34  \\\n",
       "0   None of these activities are an important par...   PostgreSQL    None   \n",
       "\n",
       "   Q28              Q10                                                Q18  \\\n",
       "0  NaN  Colab Notebooks  General purpose image/video tools (PIL, cv2, s...   \n",
       "\n",
       "                                                 Q19  \\\n",
       "0  Word embeddings/vectors (GLoVe, fastText, word...   \n",
       "\n",
       "                           Q27-A                          Q29-A  \\\n",
       "0   Google Cloud Platform (GCP)    Google Cloud Compute Engine    \n",
       "\n",
       "                           Q30-A      Q31-A      Q36-A Q37-A      Q38-A  \\\n",
       "0  Google Cloud Storage (GCS)     No / None  No / None   NaN  No / None   \n",
       "\n",
       "                  Q39                                                Q40  \\\n",
       "0   GitHub ,  Kaggle   Coursera, edX, Kaggle Learn Courses, DataCamp,...   \n",
       "\n",
       "                                                 Q42 Q27-B Q29-B  Q30-B Q31-B  \\\n",
       "0  Email newsletters (Data Elixir, O'Reilly Data ...   NaN   NaN    NaN   NaN   \n",
       "\n",
       "  Q32-B Q34-B Q36-B Q37-B Q38-B  \n",
       "0   NaN   NaN   NaN   NaN   NaN  "
      ]
     },
     "execution_count": 2,
     "metadata": {},
     "output_type": "execute_result"
    }
   ],
   "source": [
    "df = pd.read_csv('archivos_resultantes/columnas_unificadas.csv',index_col=0)\n",
    "df.head(1)"
   ]
  },
  {
   "cell_type": "code",
   "execution_count": 3,
   "metadata": {},
   "outputs": [
    {
     "data": {
      "text/html": [
       "<div>\n",
       "<style scoped>\n",
       "    .dataframe tbody tr th:only-of-type {\n",
       "        vertical-align: middle;\n",
       "    }\n",
       "\n",
       "    .dataframe tbody tr th {\n",
       "        vertical-align: top;\n",
       "    }\n",
       "\n",
       "    .dataframe thead th {\n",
       "        text-align: right;\n",
       "    }\n",
       "</style>\n",
       "<table border=\"1\" class=\"dataframe\">\n",
       "  <thead>\n",
       "    <tr style=\"text-align: right;\">\n",
       "      <th></th>\n",
       "      <th>time</th>\n",
       "      <th>age</th>\n",
       "      <th>gender</th>\n",
       "      <th>Q3</th>\n",
       "      <th>Q4</th>\n",
       "      <th>Q5</th>\n",
       "      <th>Q6</th>\n",
       "      <th>Q8</th>\n",
       "      <th>Q11</th>\n",
       "      <th>Q13</th>\n",
       "      <th>Q15</th>\n",
       "      <th>Q20</th>\n",
       "      <th>Q21</th>\n",
       "      <th>Q22</th>\n",
       "      <th>Q23</th>\n",
       "      <th>Q25</th>\n",
       "      <th>Q26</th>\n",
       "      <th>Q33</th>\n",
       "      <th>Q35</th>\n",
       "      <th>Q41</th>\n",
       "      <th>Q7</th>\n",
       "      <th>Q9</th>\n",
       "      <th>Q12</th>\n",
       "      <th>Q14</th>\n",
       "      <th>Q16</th>\n",
       "      <th>Q17</th>\n",
       "      <th>Q24</th>\n",
       "      <th>Q32</th>\n",
       "      <th>Q34</th>\n",
       "      <th>Q28</th>\n",
       "      <th>Q10</th>\n",
       "      <th>Q18</th>\n",
       "      <th>Q19</th>\n",
       "      <th>Q27-A</th>\n",
       "      <th>Q29-A</th>\n",
       "      <th>Q30-A</th>\n",
       "      <th>Q31-A</th>\n",
       "      <th>Q36-A</th>\n",
       "      <th>Q37-A</th>\n",
       "      <th>Q38-A</th>\n",
       "      <th>Q39</th>\n",
       "      <th>Q40</th>\n",
       "      <th>Q42</th>\n",
       "      <th>Q27-B</th>\n",
       "      <th>Q29-B</th>\n",
       "      <th>Q30-B</th>\n",
       "      <th>Q31-B</th>\n",
       "      <th>Q32-B</th>\n",
       "      <th>Q34-B</th>\n",
       "      <th>Q36-B</th>\n",
       "      <th>Q37-B</th>\n",
       "      <th>Q38-B</th>\n",
       "    </tr>\n",
       "  </thead>\n",
       "  <tbody>\n",
       "    <tr>\n",
       "      <th>16</th>\n",
       "      <td>1315</td>\n",
       "      <td>50-54</td>\n",
       "      <td>Man</td>\n",
       "      <td>Belgium</td>\n",
       "      <td>Bachelor’s degree</td>\n",
       "      <td>Data Analyst</td>\n",
       "      <td>20+ years</td>\n",
       "      <td>Python</td>\n",
       "      <td>A laptop</td>\n",
       "      <td>Never</td>\n",
       "      <td>1-2 years</td>\n",
       "      <td>Energy/Mining</td>\n",
       "      <td>1000-9,999 employees</td>\n",
       "      <td>5-9</td>\n",
       "      <td>We are exploring ML methods (and may one day p...</td>\n",
       "      <td>2,000-2,999</td>\n",
       "      <td>$0 ($USD)</td>\n",
       "      <td>NaN</td>\n",
       "      <td>NaN</td>\n",
       "      <td>Local development environments (RStudio, Jupyt...</td>\n",
       "      <td>Python, SQL</td>\n",
       "      <td>Jupyter (JupyterLab, Jupyter Notebooks, etc) ,...</td>\n",
       "      <td>None</td>\n",
       "      <td>Matplotlib ,Seaborn ,Plotly / Plotly Express</td>\n",
       "      <td>Scikit-learn</td>\n",
       "      <td>Linear or Logistic Regression</td>\n",
       "      <td>Analyze and understand data to influence produ...</td>\n",
       "      <td>NaN</td>\n",
       "      <td>NaN</td>\n",
       "      <td>NaN</td>\n",
       "      <td>Kaggle Notebooks, Colab Notebooks,  Databrick...</td>\n",
       "      <td>NaN</td>\n",
       "      <td>NaN</td>\n",
       "      <td>NaN</td>\n",
       "      <td>NaN</td>\n",
       "      <td>NaN</td>\n",
       "      <td>NaN</td>\n",
       "      <td>NaN</td>\n",
       "      <td>NaN</td>\n",
       "      <td>NaN</td>\n",
       "      <td>NaN</td>\n",
       "      <td>Coursera, Kaggle Learn Courses, Cloud-certific...</td>\n",
       "      <td>Kaggle (notebooks, forums, etc), Blogs (Toward...</td>\n",
       "      <td>IBM Cloud / Red Hat</td>\n",
       "      <td>NaN</td>\n",
       "      <td>NaN</td>\n",
       "      <td>Databricks</td>\n",
       "      <td>Microsoft Azure SQL Database</td>\n",
       "      <td>Microsoft Power BI, Google Data Studio, Tablea...</td>\n",
       "      <td>Automated data augmentation (e.g. imgaug, albu...</td>\n",
       "      <td>Google Cloud AutoML ,  H2O Driverless AI  ,  ...</td>\n",
       "      <td>Neptune.ai ,  Weights &amp; Biases ,  Comet.ml , ...</td>\n",
       "    </tr>\n",
       "  </tbody>\n",
       "</table>\n",
       "</div>"
      ],
      "text/plain": [
       "    time    age gender       Q3                 Q4            Q5         Q6  \\\n",
       "16  1315  50-54    Man  Belgium  Bachelor’s degree  Data Analyst  20+ years   \n",
       "\n",
       "        Q8       Q11    Q13        Q15            Q20                   Q21  \\\n",
       "16  Python  A laptop  Never  1-2 years  Energy/Mining  1000-9,999 employees   \n",
       "\n",
       "    Q22                                                Q23          Q25  \\\n",
       "16  5-9  We are exploring ML methods (and may one day p...  2,000-2,999   \n",
       "\n",
       "          Q26  Q33  Q35                                                Q41  \\\n",
       "16  $0 ($USD)  NaN  NaN  Local development environments (RStudio, Jupyt...   \n",
       "\n",
       "             Q7                                                 Q9    Q12  \\\n",
       "16  Python, SQL  Jupyter (JupyterLab, Jupyter Notebooks, etc) ,...   None   \n",
       "\n",
       "                                               Q14            Q16  \\\n",
       "16   Matplotlib ,Seaborn ,Plotly / Plotly Express   Scikit-learn    \n",
       "\n",
       "                              Q17  \\\n",
       "16  Linear or Logistic Regression   \n",
       "\n",
       "                                                  Q24  Q32  Q34  Q28  \\\n",
       "16  Analyze and understand data to influence produ...  NaN  NaN  NaN   \n",
       "\n",
       "                                                  Q10  Q18  Q19 Q27-A Q29-A  \\\n",
       "16   Kaggle Notebooks, Colab Notebooks,  Databrick...  NaN  NaN   NaN   NaN   \n",
       "\n",
       "   Q30-A Q31-A Q36-A Q37-A Q38-A  Q39  \\\n",
       "16   NaN   NaN   NaN   NaN   NaN  NaN   \n",
       "\n",
       "                                                  Q40  \\\n",
       "16  Coursera, Kaggle Learn Courses, Cloud-certific...   \n",
       "\n",
       "                                                  Q42                  Q27-B  \\\n",
       "16  Kaggle (notebooks, forums, etc), Blogs (Toward...   IBM Cloud / Red Hat    \n",
       "\n",
       "   Q29-B  Q30-B        Q31-B                          Q32-B  \\\n",
       "16   NaN    NaN   Databricks  Microsoft Azure SQL Database    \n",
       "\n",
       "                                                Q34-B  \\\n",
       "16  Microsoft Power BI, Google Data Studio, Tablea...   \n",
       "\n",
       "                                                Q36-B  \\\n",
       "16  Automated data augmentation (e.g. imgaug, albu...   \n",
       "\n",
       "                                                Q37-B  \\\n",
       "16   Google Cloud AutoML ,  H2O Driverless AI  ,  ...   \n",
       "\n",
       "                                                Q38-B  \n",
       "16   Neptune.ai ,  Weights & Biases ,  Comet.ml , ...  "
      ]
     },
     "execution_count": 3,
     "metadata": {},
     "output_type": "execute_result"
    }
   ],
   "source": [
    "df_puestos = df[df[\"Q5\"].isin(['Data Analyst','Business Analyst'])]\n",
    "df_final = df_puestos[df_puestos[\"Q3\"].isin(['Spain','France','Russia','Italy','Ukraine','Portugal','Greece','Ireland','Switzerland','Belgium','Belarus','Czech Republic','Romania','Austria', 'Poland','Denmark','Norway','United Kingdom of Great Britain and Northern Ireland','Germany','Turkey','Netherlands','Sweden'])]\n",
    "df_final.head(1)"
   ]
  },
  {
   "cell_type": "code",
   "execution_count": 4,
   "metadata": {},
   "outputs": [
    {
     "data": {
      "text/html": [
       "<div>\n",
       "<style scoped>\n",
       "    .dataframe tbody tr th:only-of-type {\n",
       "        vertical-align: middle;\n",
       "    }\n",
       "\n",
       "    .dataframe tbody tr th {\n",
       "        vertical-align: top;\n",
       "    }\n",
       "\n",
       "    .dataframe thead th {\n",
       "        text-align: right;\n",
       "    }\n",
       "</style>\n",
       "<table border=\"1\" class=\"dataframe\">\n",
       "  <thead>\n",
       "    <tr style=\"text-align: right;\">\n",
       "      <th></th>\n",
       "      <th>time</th>\n",
       "      <th>age</th>\n",
       "      <th>gender</th>\n",
       "      <th>Q3</th>\n",
       "      <th>Q4</th>\n",
       "      <th>Q5</th>\n",
       "      <th>Q6</th>\n",
       "      <th>Q8</th>\n",
       "      <th>Q11</th>\n",
       "      <th>Q13</th>\n",
       "      <th>Q15</th>\n",
       "      <th>Q20</th>\n",
       "      <th>Q21</th>\n",
       "      <th>Q22</th>\n",
       "      <th>Q23</th>\n",
       "      <th>Q25</th>\n",
       "      <th>Q26</th>\n",
       "      <th>Q33</th>\n",
       "      <th>Q35</th>\n",
       "      <th>Q41</th>\n",
       "      <th>Q7</th>\n",
       "      <th>Q9</th>\n",
       "      <th>Q12</th>\n",
       "      <th>Q14</th>\n",
       "      <th>Q16</th>\n",
       "      <th>Q17</th>\n",
       "      <th>Q24</th>\n",
       "      <th>Q32</th>\n",
       "      <th>Q34</th>\n",
       "      <th>Q28</th>\n",
       "      <th>Q10</th>\n",
       "      <th>Q18</th>\n",
       "      <th>Q19</th>\n",
       "      <th>Q27-A</th>\n",
       "      <th>Q29-A</th>\n",
       "      <th>Q30-A</th>\n",
       "      <th>Q31-A</th>\n",
       "      <th>Q36-A</th>\n",
       "      <th>Q37-A</th>\n",
       "      <th>Q38-A</th>\n",
       "      <th>Q39</th>\n",
       "      <th>Q40</th>\n",
       "      <th>Q42</th>\n",
       "      <th>Q27-B</th>\n",
       "      <th>Q29-B</th>\n",
       "      <th>Q30-B</th>\n",
       "      <th>Q31-B</th>\n",
       "      <th>Q32-B</th>\n",
       "      <th>Q34-B</th>\n",
       "      <th>Q36-B</th>\n",
       "      <th>Q37-B</th>\n",
       "      <th>Q38-B</th>\n",
       "    </tr>\n",
       "  </thead>\n",
       "  <tbody>\n",
       "    <tr>\n",
       "      <th>0</th>\n",
       "      <td>0.0</td>\n",
       "      <td>0.0</td>\n",
       "      <td>0.0</td>\n",
       "      <td>0.0</td>\n",
       "      <td>0.0</td>\n",
       "      <td>0.0</td>\n",
       "      <td>0.0</td>\n",
       "      <td>4.404574</td>\n",
       "      <td>5.82143</td>\n",
       "      <td>6.044739</td>\n",
       "      <td>8.543487</td>\n",
       "      <td>37.146267</td>\n",
       "      <td>37.431179</td>\n",
       "      <td>37.912448</td>\n",
       "      <td>38.582374</td>\n",
       "      <td>40.742309</td>\n",
       "      <td>41.543141</td>\n",
       "      <td>82.073692</td>\n",
       "      <td>91.38721</td>\n",
       "      <td>28.814538</td>\n",
       "      <td>3.973357</td>\n",
       "      <td>4.000308</td>\n",
       "      <td>5.355562</td>\n",
       "      <td>7.711855</td>\n",
       "      <td>24.444616</td>\n",
       "      <td>25.634313</td>\n",
       "      <td>39.802872</td>\n",
       "      <td>63.485158</td>\n",
       "      <td>63.812421</td>\n",
       "      <td>87.960574</td>\n",
       "      <td>32.098718</td>\n",
       "      <td>76.610326</td>\n",
       "      <td>85.196165</td>\n",
       "      <td>72.925731</td>\n",
       "      <td>75.998152</td>\n",
       "      <td>76.171409</td>\n",
       "      <td>63.146344</td>\n",
       "      <td>64.135833</td>\n",
       "      <td>88.6151</td>\n",
       "      <td>64.436145</td>\n",
       "      <td>64.536249</td>\n",
       "      <td>32.826397</td>\n",
       "      <td>33.307666</td>\n",
       "      <td>56.662688</td>\n",
       "      <td>63.954876</td>\n",
       "      <td>100.0</td>\n",
       "      <td>65.837601</td>\n",
       "      <td>59.261541</td>\n",
       "      <td>65.494937</td>\n",
       "      <td>68.251646</td>\n",
       "      <td>74.465791</td>\n",
       "      <td>75.570785</td>\n",
       "    </tr>\n",
       "  </tbody>\n",
       "</table>\n",
       "</div>"
      ],
      "text/plain": [
       "   time  age  gender   Q3   Q4   Q5   Q6        Q8      Q11       Q13  \\\n",
       "0   0.0  0.0     0.0  0.0  0.0  0.0  0.0  4.404574  5.82143  6.044739   \n",
       "\n",
       "        Q15        Q20        Q21        Q22        Q23        Q25        Q26  \\\n",
       "0  8.543487  37.146267  37.431179  37.912448  38.582374  40.742309  41.543141   \n",
       "\n",
       "         Q33       Q35        Q41        Q7        Q9       Q12       Q14  \\\n",
       "0  82.073692  91.38721  28.814538  3.973357  4.000308  5.355562  7.711855   \n",
       "\n",
       "         Q16        Q17        Q24        Q32        Q34        Q28  \\\n",
       "0  24.444616  25.634313  39.802872  63.485158  63.812421  87.960574   \n",
       "\n",
       "         Q10        Q18        Q19      Q27-A      Q29-A      Q30-A  \\\n",
       "0  32.098718  76.610326  85.196165  72.925731  75.998152  76.171409   \n",
       "\n",
       "       Q31-A      Q36-A    Q37-A      Q38-A        Q39        Q40        Q42  \\\n",
       "0  63.146344  64.135833  88.6151  64.436145  64.536249  32.826397  33.307666   \n",
       "\n",
       "       Q27-B      Q29-B  Q30-B      Q31-B      Q32-B      Q34-B      Q36-B  \\\n",
       "0  56.662688  63.954876  100.0  65.837601  59.261541  65.494937  68.251646   \n",
       "\n",
       "       Q37-B      Q38-B  \n",
       "0  74.465791  75.570785  "
      ]
     },
     "execution_count": 4,
     "metadata": {},
     "output_type": "execute_result"
    }
   ],
   "source": [
    "nulos = pd.DataFrame(df.isnull().sum() * 100 / df.shape[0]).T\n",
    "nulos"
   ]
  },
  {
   "cell_type": "code",
   "execution_count": 5,
   "metadata": {},
   "outputs": [
    {
     "data": {
      "text/plain": [
       "(25973, 52)"
      ]
     },
     "execution_count": 5,
     "metadata": {},
     "output_type": "execute_result"
    }
   ],
   "source": [
    "df.shape"
   ]
  },
  {
   "cell_type": "code",
   "execution_count": 4,
   "metadata": {},
   "outputs": [
    {
     "data": {
      "text/plain": [
       "Q20\n",
       "Accounting/Finance                        106\n",
       "Computers/Technology                       48\n",
       "Academics/Education                        44\n",
       "Retail/Sales                               42\n",
       "Government/Public Service                  38\n",
       "Manufacturing/Fabrication                  34\n",
       "Marketing/CRM                              29\n",
       "Other                                      29\n",
       "Shipping/Transportation                    25\n",
       "Energy/Mining                              24\n",
       "Medical/Pharmaceutical                     23\n",
       "Online Service/Internet-based Services     22\n",
       "Broadcasting/Communications                21\n",
       "Online Business/Internet-based Sales       18\n",
       "Insurance/Risk Assessment                  15\n",
       "Hospitality/Entertainment/Sports           11\n",
       "Non-profit/Service                          6\n",
       "Military/Security/Defense                   3\n",
       "Name: count, dtype: int64"
      ]
     },
     "execution_count": 4,
     "metadata": {},
     "output_type": "execute_result"
    }
   ],
   "source": [
    "df_final['Q20'].value_counts()"
   ]
  },
  {
   "cell_type": "code",
   "execution_count": 5,
   "metadata": {},
   "outputs": [
    {
     "data": {
      "text/plain": [
       "Q25\n",
       "$0-999             55\n",
       "40,000-49,999      48\n",
       "50,000-59,999      43\n",
       "1,000-1,999        41\n",
       "30,000-39,999      41\n",
       "10,000-14,999      39\n",
       "60,000-69,999      33\n",
       "20,000-24,999      30\n",
       "25,000-29,999      24\n",
       "15,000-19,999      23\n",
       "2,000-2,999        18\n",
       "100,000-124,999    16\n",
       "7,500-9,999        16\n",
       "5,000-7,499        12\n",
       "125,000-149,999    11\n",
       "3,000-3,999        11\n",
       "70,000-79,999      11\n",
       "80,000-89,999       9\n",
       "90,000-99,999       7\n",
       "4,000-4,999         5\n",
       ">$1,000,000         3\n",
       "200,000-249,999     2\n",
       "250,000-299,999     1\n",
       "150,000-199,999     1\n",
       "Name: count, dtype: int64"
      ]
     },
     "execution_count": 5,
     "metadata": {},
     "output_type": "execute_result"
    }
   ],
   "source": [
    "df_final['Q25'].value_counts()\n"
   ]
  },
  {
   "cell_type": "code",
   "execution_count": 6,
   "metadata": {},
   "outputs": [
    {
     "data": {
      "image/png": "[encoded data removed]",
      "text/plain": [
       "<Figure size 1800x360 with 1 Axes>"
      ]
     },
     "metadata": {
      "needs_background": "light"
     },
     "output_type": "display_data"
    }
   ],
   "source": [
    "plt.figure(figsize = (25,5))\n",
    "plt.bar(df_final['Q25'].value_counts()[:12].index,df_final['Q25'].value_counts()[:12],color='turquoise')\n",
    "plt.title('Salario anual')\n",
    "plt.xlabel('Rango de salario')\n",
    "plt.ylabel('Personas')\n",
    "plt.ylim(0, 60)\n",
    "plt.show()"
   ]
  },
  {
   "cell_type": "code",
   "execution_count": 7,
   "metadata": {},
   "outputs": [
    {
     "data": {
      "image/png": "[encoded data removed]",
      "text/plain": [
       "<Figure size 1800x360 with 1 Axes>"
      ]
     },
     "metadata": {
      "needs_background": "light"
     },
     "output_type": "display_data"
    }
   ],
   "source": [
    "plt.figure(figsize = (25,5))\n",
    "plt.bar(df_final['Q25'].value_counts()[12:].index,df_final['Q25'].value_counts()[12:],color='turquoise')\n",
    "plt.title('Salario anual')\n",
    "plt.xlabel('Rango de salario')\n",
    "plt.ylabel('Personas')\n",
    "plt.ylim(0, 60)\n",
    "plt.show()"
   ]
  },
  {
   "cell_type": "code",
   "execution_count": 8,
   "metadata": {},
   "outputs": [
    {
     "data": {
      "text/plain": [
       "Q6\n",
       "1-3 years                    162\n",
       "< 1 years                    141\n",
       "3-5 years                     84\n",
       "5-10 years                    52\n",
       "10-20 years                   50\n",
       "20+ years                     41\n",
       "I have never written code     27\n",
       "Name: count, dtype: int64"
      ]
     },
     "execution_count": 8,
     "metadata": {},
     "output_type": "execute_result"
    }
   ],
   "source": [
    "df_final['Q6'].value_counts()"
   ]
  },
  {
   "cell_type": "code",
   "execution_count": 9,
   "metadata": {},
   "outputs": [
    {
     "data": {
      "image/png": "[encoded data removed]",
      "text/plain": [
       "<Figure size 1440x360 with 1 Axes>"
      ]
     },
     "metadata": {
      "needs_background": "light"
     },
     "output_type": "display_data"
    }
   ],
   "source": [
    "plt.figure(figsize = (20,5))\n",
    "plt.bar(df_final['Q6'].value_counts().index,df_final['Q6'].value_counts(),color='turquoise')\n",
    "plt.title('Años programando')\n",
    "plt.xlabel('Rango de años')\n",
    "plt.ylabel('Personas')\n",
    "plt.show()"
   ]
  },
  {
   "cell_type": "code",
   "execution_count": 10,
   "metadata": {},
   "outputs": [
    {
     "data": {
      "text/plain": [
       "gender\n",
       "Man                        436\n",
       "Woman                      114\n",
       "Prefer not to say            4\n",
       "Prefer to self-describe      2\n",
       "Nonbinary                    1\n",
       "Name: count, dtype: int64"
      ]
     },
     "execution_count": 10,
     "metadata": {},
     "output_type": "execute_result"
    }
   ],
   "source": [
    "df_final['gender'].value_counts()"
   ]
  },
  {
   "cell_type": "code",
   "execution_count": 11,
   "metadata": {},
   "outputs": [
    {
     "data": {
      "image/png": "[encoded data removed]",
      "text/plain": [
       "<Figure size 432x288 with 1 Axes>"
      ]
     },
     "metadata": {},
     "output_type": "display_data"
    }
   ],
   "source": [
    "# Gráfico que representa la brecha de género en el sector IT, concretamente en el que trabaja Adalab.\n",
    "plt.figure()\n",
    "plt.pie(df_final['gender'].value_counts()[:3],labels= df_final['gender'].value_counts().index[:3],autopct='%1.1f%%',  colors = ['darkgrey','turquoise','orchid']);\n",
    "plt.title('Mujeres en el sector');"
   ]
  },
  {
   "cell_type": "code",
   "execution_count": 12,
   "metadata": {},
   "outputs": [
    {
     "data": {
      "text/plain": [
       "Q5                Q6                       \n",
       "Business Analyst  < 1 years                     56\n",
       "                  1-3 years                     40\n",
       "                  3-5 years                     27\n",
       "                  5-10 years                    19\n",
       "                  20+ years                     17\n",
       "                  I have never written code     15\n",
       "                  10-20 years                   12\n",
       "Data Analyst      1-3 years                    122\n",
       "                  < 1 years                     85\n",
       "                  3-5 years                     57\n",
       "                  10-20 years                   38\n",
       "                  5-10 years                    33\n",
       "                  20+ years                     24\n",
       "                  I have never written code     12\n",
       "Name: count, dtype: int64"
      ]
     },
     "execution_count": 12,
     "metadata": {},
     "output_type": "execute_result"
    }
   ],
   "source": [
    "df_final.groupby(['Q5'])['Q6'].value_counts()"
   ]
  },
  {
   "cell_type": "code",
   "execution_count": 13,
   "metadata": {},
   "outputs": [
    {
     "data": {
      "text/plain": [
       "gender                   Q6                       \n",
       "Man                      1-3 years                    128\n",
       "                         < 1 years                    106\n",
       "                         3-5 years                     68\n",
       "                         5-10 years                    40\n",
       "                         20+ years                     39\n",
       "                         10-20 years                   37\n",
       "                         I have never written code     18\n",
       "Nonbinary                < 1 years                      1\n",
       "Prefer not to say        < 1 years                      1\n",
       "                         10-20 years                    1\n",
       "                         1-3 years                      1\n",
       "                         3-5 years                      1\n",
       "Prefer to self-describe  10-20 years                    1\n",
       "                         1-3 years                      1\n",
       "Woman                    < 1 years                     33\n",
       "                         1-3 years                     32\n",
       "                         3-5 years                     15\n",
       "                         5-10 years                    12\n",
       "                         10-20 years                   11\n",
       "                         I have never written code      9\n",
       "                         20+ years                      2\n",
       "Name: count, dtype: int64"
      ]
     },
     "execution_count": 13,
     "metadata": {},
     "output_type": "execute_result"
    }
   ],
   "source": [
    "df_final.groupby(['gender'])['Q6'].value_counts()"
   ]
  },
  {
   "cell_type": "code",
   "execution_count": 14,
   "metadata": {},
   "outputs": [
    {
     "data": {
      "text/plain": [
       "gender                   Q5              \n",
       "Man                      Data Analyst        286\n",
       "                         Business Analyst    150\n",
       "Nonbinary                Data Analyst          1\n",
       "Prefer not to say        Data Analyst          3\n",
       "                         Business Analyst      1\n",
       "Prefer to self-describe  Business Analyst      1\n",
       "                         Data Analyst          1\n",
       "Woman                    Data Analyst         80\n",
       "                         Business Analyst     34\n",
       "Name: count, dtype: int64"
      ]
     },
     "execution_count": 14,
     "metadata": {},
     "output_type": "execute_result"
    }
   ],
   "source": [
    "df_final.groupby(['gender'])['Q5'].value_counts()"
   ]
  },
  {
   "cell_type": "code",
   "execution_count": 15,
   "metadata": {},
   "outputs": [
    {
     "data": {
      "text/plain": [
       "Q5                Q6                       \n",
       "Business Analyst  < 1 years                     56\n",
       "                  1-3 years                     40\n",
       "                  3-5 years                     27\n",
       "                  5-10 years                    19\n",
       "                  20+ years                     17\n",
       "                  I have never written code     15\n",
       "                  10-20 years                   12\n",
       "Data Analyst      1-3 years                    122\n",
       "                  < 1 years                     85\n",
       "                  3-5 years                     57\n",
       "                  10-20 years                   38\n",
       "                  5-10 years                    33\n",
       "                  20+ years                     24\n",
       "                  I have never written code     12\n",
       "Name: count, dtype: int64"
      ]
     },
     "execution_count": 15,
     "metadata": {},
     "output_type": "execute_result"
    }
   ],
   "source": [
    "df_final.groupby(['Q5'])['Q6'].value_counts()"
   ]
  },
  {
   "cell_type": "code",
   "execution_count": 16,
   "metadata": {},
   "outputs": [
    {
     "data": {
      "text/html": [
       "<div>\n",
       "<style scoped>\n",
       "    .dataframe tbody tr th:only-of-type {\n",
       "        vertical-align: middle;\n",
       "    }\n",
       "\n",
       "    .dataframe tbody tr th {\n",
       "        vertical-align: top;\n",
       "    }\n",
       "\n",
       "    .dataframe thead th {\n",
       "        text-align: right;\n",
       "    }\n",
       "</style>\n",
       "<table border=\"1\" class=\"dataframe\">\n",
       "  <thead>\n",
       "    <tr style=\"text-align: right;\">\n",
       "      <th></th>\n",
       "      <th>Q20</th>\n",
       "      <th>Q5</th>\n",
       "    </tr>\n",
       "  </thead>\n",
       "  <tbody>\n",
       "    <tr>\n",
       "      <th>0</th>\n",
       "      <td>Accounting/Finance</td>\n",
       "      <td>106</td>\n",
       "    </tr>\n",
       "    <tr>\n",
       "      <th>1</th>\n",
       "      <td>Computers/Technology</td>\n",
       "      <td>48</td>\n",
       "    </tr>\n",
       "    <tr>\n",
       "      <th>2</th>\n",
       "      <td>Academics/Education</td>\n",
       "      <td>44</td>\n",
       "    </tr>\n",
       "    <tr>\n",
       "      <th>3</th>\n",
       "      <td>Retail/Sales</td>\n",
       "      <td>42</td>\n",
       "    </tr>\n",
       "    <tr>\n",
       "      <th>4</th>\n",
       "      <td>Government/Public Service</td>\n",
       "      <td>38</td>\n",
       "    </tr>\n",
       "    <tr>\n",
       "      <th>5</th>\n",
       "      <td>Manufacturing/Fabrication</td>\n",
       "      <td>34</td>\n",
       "    </tr>\n",
       "    <tr>\n",
       "      <th>6</th>\n",
       "      <td>Other</td>\n",
       "      <td>29</td>\n",
       "    </tr>\n",
       "    <tr>\n",
       "      <th>7</th>\n",
       "      <td>Marketing/CRM</td>\n",
       "      <td>29</td>\n",
       "    </tr>\n",
       "    <tr>\n",
       "      <th>8</th>\n",
       "      <td>Shipping/Transportation</td>\n",
       "      <td>25</td>\n",
       "    </tr>\n",
       "    <tr>\n",
       "      <th>9</th>\n",
       "      <td>Energy/Mining</td>\n",
       "      <td>24</td>\n",
       "    </tr>\n",
       "    <tr>\n",
       "      <th>10</th>\n",
       "      <td>Medical/Pharmaceutical</td>\n",
       "      <td>23</td>\n",
       "    </tr>\n",
       "    <tr>\n",
       "      <th>11</th>\n",
       "      <td>Online Service/Internet-based Services</td>\n",
       "      <td>22</td>\n",
       "    </tr>\n",
       "    <tr>\n",
       "      <th>12</th>\n",
       "      <td>Broadcasting/Communications</td>\n",
       "      <td>21</td>\n",
       "    </tr>\n",
       "    <tr>\n",
       "      <th>13</th>\n",
       "      <td>Online Business/Internet-based Sales</td>\n",
       "      <td>18</td>\n",
       "    </tr>\n",
       "    <tr>\n",
       "      <th>14</th>\n",
       "      <td>Insurance/Risk Assessment</td>\n",
       "      <td>15</td>\n",
       "    </tr>\n",
       "    <tr>\n",
       "      <th>15</th>\n",
       "      <td>Hospitality/Entertainment/Sports</td>\n",
       "      <td>11</td>\n",
       "    </tr>\n",
       "    <tr>\n",
       "      <th>16</th>\n",
       "      <td>Non-profit/Service</td>\n",
       "      <td>6</td>\n",
       "    </tr>\n",
       "    <tr>\n",
       "      <th>17</th>\n",
       "      <td>Military/Security/Defense</td>\n",
       "      <td>3</td>\n",
       "    </tr>\n",
       "  </tbody>\n",
       "</table>\n",
       "</div>"
      ],
      "text/plain": [
       "                                       Q20   Q5\n",
       "0                       Accounting/Finance  106\n",
       "1                     Computers/Technology   48\n",
       "2                      Academics/Education   44\n",
       "3                             Retail/Sales   42\n",
       "4                Government/Public Service   38\n",
       "5                Manufacturing/Fabrication   34\n",
       "6                                    Other   29\n",
       "7                            Marketing/CRM   29\n",
       "8                  Shipping/Transportation   25\n",
       "9                            Energy/Mining   24\n",
       "10                  Medical/Pharmaceutical   23\n",
       "11  Online Service/Internet-based Services   22\n",
       "12             Broadcasting/Communications   21\n",
       "13    Online Business/Internet-based Sales   18\n",
       "14               Insurance/Risk Assessment   15\n",
       "15        Hospitality/Entertainment/Sports   11\n",
       "16                      Non-profit/Service    6\n",
       "17               Military/Security/Defense    3"
      ]
     },
     "execution_count": 16,
     "metadata": {},
     "output_type": "execute_result"
    }
   ],
   "source": [
    "empresas = df_final.groupby(['Q20'])['Q5'].count().sort_values(ascending=False)\n",
    "df_empresa = pd.DataFrame(empresas).reset_index()\n",
    "df_empresa"
   ]
  },
  {
   "cell_type": "code",
   "execution_count": 17,
   "metadata": {},
   "outputs": [
    {
     "data": {
      "text/html": [
       "<div>\n",
       "<style scoped>\n",
       "    .dataframe tbody tr th:only-of-type {\n",
       "        vertical-align: middle;\n",
       "    }\n",
       "\n",
       "    .dataframe tbody tr th {\n",
       "        vertical-align: top;\n",
       "    }\n",
       "\n",
       "    .dataframe thead th {\n",
       "        text-align: right;\n",
       "    }\n",
       "</style>\n",
       "<table border=\"1\" class=\"dataframe\">\n",
       "  <thead>\n",
       "    <tr style=\"text-align: right;\">\n",
       "      <th></th>\n",
       "      <th>Q20</th>\n",
       "      <th>Q26</th>\n",
       "      <th>count</th>\n",
       "    </tr>\n",
       "  </thead>\n",
       "  <tbody>\n",
       "    <tr>\n",
       "      <th>0</th>\n",
       "      <td>Academics/Education</td>\n",
       "      <td>$0 ($USD)</td>\n",
       "      <td>17</td>\n",
       "    </tr>\n",
       "    <tr>\n",
       "      <th>1</th>\n",
       "      <td>Academics/Education</td>\n",
       "      <td>$100-$999</td>\n",
       "      <td>8</td>\n",
       "    </tr>\n",
       "    <tr>\n",
       "      <th>2</th>\n",
       "      <td>Academics/Education</td>\n",
       "      <td>$1000-$9,999</td>\n",
       "      <td>6</td>\n",
       "    </tr>\n",
       "    <tr>\n",
       "      <th>3</th>\n",
       "      <td>Academics/Education</td>\n",
       "      <td>$1-$99</td>\n",
       "      <td>4</td>\n",
       "    </tr>\n",
       "    <tr>\n",
       "      <th>4</th>\n",
       "      <td>Academics/Education</td>\n",
       "      <td>$10,000-$99,999</td>\n",
       "      <td>4</td>\n",
       "    </tr>\n",
       "    <tr>\n",
       "      <th>...</th>\n",
       "      <td>...</td>\n",
       "      <td>...</td>\n",
       "      <td>...</td>\n",
       "    </tr>\n",
       "    <tr>\n",
       "      <th>85</th>\n",
       "      <td>Shipping/Transportation</td>\n",
       "      <td>$0 ($USD)</td>\n",
       "      <td>13</td>\n",
       "    </tr>\n",
       "    <tr>\n",
       "      <th>86</th>\n",
       "      <td>Shipping/Transportation</td>\n",
       "      <td>$100-$999</td>\n",
       "      <td>5</td>\n",
       "    </tr>\n",
       "    <tr>\n",
       "      <th>87</th>\n",
       "      <td>Shipping/Transportation</td>\n",
       "      <td>$1-$99</td>\n",
       "      <td>3</td>\n",
       "    </tr>\n",
       "    <tr>\n",
       "      <th>88</th>\n",
       "      <td>Shipping/Transportation</td>\n",
       "      <td>$100,000 or more ($USD)</td>\n",
       "      <td>2</td>\n",
       "    </tr>\n",
       "    <tr>\n",
       "      <th>89</th>\n",
       "      <td>Shipping/Transportation</td>\n",
       "      <td>$1000-$9,999</td>\n",
       "      <td>2</td>\n",
       "    </tr>\n",
       "  </tbody>\n",
       "</table>\n",
       "<p>90 rows × 3 columns</p>\n",
       "</div>"
      ],
      "text/plain": [
       "                        Q20                      Q26  count\n",
       "0       Academics/Education                $0 ($USD)     17\n",
       "1       Academics/Education                $100-$999      8\n",
       "2       Academics/Education             $1000-$9,999      6\n",
       "3       Academics/Education                   $1-$99      4\n",
       "4       Academics/Education          $10,000-$99,999      4\n",
       "..                      ...                      ...    ...\n",
       "85  Shipping/Transportation                $0 ($USD)     13\n",
       "86  Shipping/Transportation                $100-$999      5\n",
       "87  Shipping/Transportation                   $1-$99      3\n",
       "88  Shipping/Transportation  $100,000 or more ($USD)      2\n",
       "89  Shipping/Transportation             $1000-$9,999      2\n",
       "\n",
       "[90 rows x 3 columns]"
      ]
     },
     "execution_count": 17,
     "metadata": {},
     "output_type": "execute_result"
    }
   ],
   "source": [
    "ML= df_final.groupby(['Q20'])['Q26'].value_counts()\n",
    "Df_ml = pd.DataFrame(ML).reset_index()\n",
    "Df_ml"
   ]
  },
  {
   "cell_type": "code",
   "execution_count": 18,
   "metadata": {},
   "outputs": [
    {
     "data": {
      "text/html": [
       "<div>\n",
       "<style scoped>\n",
       "    .dataframe tbody tr th:only-of-type {\n",
       "        vertical-align: middle;\n",
       "    }\n",
       "\n",
       "    .dataframe tbody tr th {\n",
       "        vertical-align: top;\n",
       "    }\n",
       "\n",
       "    .dataframe thead th {\n",
       "        text-align: right;\n",
       "    }\n",
       "</style>\n",
       "<table border=\"1\" class=\"dataframe\">\n",
       "  <thead>\n",
       "    <tr style=\"text-align: right;\">\n",
       "      <th></th>\n",
       "      <th>gender</th>\n",
       "      <th>Q25</th>\n",
       "      <th>count</th>\n",
       "    </tr>\n",
       "  </thead>\n",
       "  <tbody>\n",
       "    <tr>\n",
       "      <th>0</th>\n",
       "      <td>Man</td>\n",
       "      <td>$0-999</td>\n",
       "      <td>42</td>\n",
       "    </tr>\n",
       "  </tbody>\n",
       "</table>\n",
       "</div>"
      ],
      "text/plain": [
       "  gender     Q25  count\n",
       "0    Man  $0-999     42"
      ]
     },
     "execution_count": 18,
     "metadata": {},
     "output_type": "execute_result"
    }
   ],
   "source": [
    "salario_genero= df_final.groupby(['gender'])['Q25'].value_counts()\n",
    "df_salario_genero = pd.DataFrame(salario_genero).reset_index()\n",
    "df_salario_genero.head(1)"
   ]
  },
  {
   "cell_type": "code",
   "execution_count": 19,
   "metadata": {},
   "outputs": [
    {
     "data": {
      "text/plain": [
       "(array([3099., 1860.,    0., 7874.,    0., 5881., 4061.,    0., 2166.,\n",
       "        1032.]),\n",
       " array([0. , 0.6, 1.2, 1.8, 2.4, 3. , 3.6, 4.2, 4.8, 5.4, 6. ]),\n",
       " <BarContainer object of 10 artists>)"
      ]
     },
     "execution_count": 19,
     "metadata": {},
     "output_type": "execute_result"
    },
    {
     "data": {
      "image/png": "[encoded data removed]",
      "text/plain": [
       "<Figure size 1080x720 with 1 Axes>"
      ]
     },
     "metadata": {
      "needs_background": "light"
     },
     "output_type": "display_data"
    }
   ],
   "source": [
    "plt.figure(figsize = (15, 10))\n",
    "\n",
    "plt.hist(df[\"Q6\"], facecolor = \"b\", edgecolor = \"black\", bins = 10)"
   ]
  },
  {
   "cell_type": "code",
   "execution_count": null,
   "metadata": {},
   "outputs": [],
   "source": [
    "paises = pd.DataFrame(df.Q3.value_counts())\n",
    "paises.head(2) # Para ver los países de los que vienen los datos"
   ]
  },
  {
   "cell_type": "code",
   "execution_count": null,
   "metadata": {},
   "outputs": [],
   "source": [
    "años_experiencia = pd.DataFrame(df.Q6.value_counts())\n",
    "años_experiencia"
   ]
  },
  {
   "cell_type": "code",
   "execution_count": null,
   "metadata": {},
   "outputs": [],
   "source": [
    "salario = pd.DataFrame(df.Q25.value_counts())\n",
    "salario.sample(2)\n",
    "\n",
    "# Para ver qué cobra generalmente para este campo. Buscar para analistas y business intelligence en Europa. "
   ]
  },
  {
   "cell_type": "code",
   "execution_count": null,
   "metadata": {},
   "outputs": [],
   "source": [
    "df[\"gender\"].value_counts()\n",
    "#Esto lo vamos a poner tal cual. La diferencia entre hombres y mujeres es abismal. "
   ]
  }
 ],
 "metadata": {
  "kernelspec": {
   "display_name": "Python 3",
   "language": "python",
   "name": "python3"
  },
  "language_info": {
   "codemirror_mode": {
    "name": "ipython",
    "version": 3
   },
   "file_extension": ".py",
   "mimetype": "text/x-python",
   "name": "python",
   "nbconvert_exporter": "python",
   "pygments_lexer": "ipython3",
   "version": "3.9.7"
  },
  "orig_nbformat": 4
 },
 "nbformat": 4,
 "nbformat_minor": 2
}
