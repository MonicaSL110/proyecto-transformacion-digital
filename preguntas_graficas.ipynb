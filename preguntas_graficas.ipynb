{
 "cells": [
  {
   "cell_type": "code",
   "execution_count": 19,
   "metadata": {},
   "outputs": [],
   "source": [
    "import pandas as pd\n",
    "import numpy as np\n",
    "import matplotlib.pyplot as plt\n",
    "import seaborn as sns\n",
    "import sidetable \n",
    "pd.options.display.max_columns=None"
   ]
  },
  {
   "cell_type": "markdown",
   "metadata": {},
   "source": [
    "## Preguntas propuestas\n",
    "Ve qués se cobra generalmente para este campo. Buscar para analistas y business intelligence en Europa. Ver también diferencias entre géneros. Mujeres y hombres trabajando en el sector (con un quesito). Años de experiencia por géneros, ver si las mujeres se han ido incorporando más a este mercado o no. Ver nivel de estudios en relación con el puesto que ocupa Y los años experiencia.\n",
    "\n",
    "Estudio de mercado: Las personas que trabajan de estos puestos: tamaño empresa, industria... \n",
    "Machine learning: Cuánto invierten realmente en *Machine Learning*.\n",
    "\n",
    "Qué herramientas utilizan (realizar para todas las columnas).\n",
    "\n",
    "Hacer un filtro:\n",
    "\n",
    ".isin(): puestos - data analyst y business intelligence. Ver todas las herramientas de manera general. Hacerlo con **todas**. \n",
    "Filtro por género para buscar por mujeres. \n",
    "- Un dataframe para ver las herramientas: \n",
    "    - cómo varían las herramientas según los años de experiencia.\n",
    "\n",
    "\n",
    "Brecha salarial para mujeres y hombres en el mismo puesto. A tener en cuenta: mismos años, mismo puesto... ver si hay diferencia de salario real.\n",
    "\n",
    "Años de las mujeres que estén trabajando en el sector, para ver si hay edades que trabajen menos por cuestiones de maternidad, etc. \n",
    "\n",
    "\n",
    "¿Qué tipo de gráficas vamos a querer?\n",
    "\n",
    "- Graficas que hay:\n",
    "    - Barras. Las barras apiladas para poder los años de experiencia que tienen los hombres vs. mujeres, para comprobar si los hombres se mantienen en el sector más o menos que las mujeres.\n",
    "    - Dispersión. Quizá para ver la brecha salarial entre géneros, u otras cosas. \n",
    "    - Histogramas. Por ejemplo, para ver las edades, para las herramientas...\n",
    "    - Sectores(quesitos): Géneros en el sector. \n",
    "    - Violín. No vemos utilidad.\n",
    "    - De caja. No vemos utilidad. "
   ]
  },
  {
   "cell_type": "code",
   "execution_count": 9,
   "metadata": {},
   "outputs": [],
   "source": [
    "def quitar_espacios(elemento):\n",
    "    '''\n",
    "    Esta función recoge elemento a elemento de una columna, quita los espacios de los lados y\n",
    "    devuelve el string modificado'''\n",
    "    try:\n",
    "        return elemento.strip()\n",
    "    except:\n",
    "        return np.nan"
   ]
  },
  {
   "cell_type": "code",
   "execution_count": 10,
   "metadata": {},
   "outputs": [],
   "source": [
    "def explode_strip(dataframe,columna):\n",
    "    ''' \n",
    "    Esta función recoge el dataframe y la columna a modificar. Hace un explode de esa columna y quita los espacios de cada elemento.\n",
    "    Devuelve el dataframe modificado.'''\n",
    "    dataframe2 = dataframe.explode(columna)\n",
    "    dataframe2[columna] = dataframe2[columna].apply(quitar_espacios)\n",
    "    return dataframe2"
   ]
  },
  {
   "cell_type": "markdown",
   "metadata": {},
   "source": [
    "## Importante\n",
    "\n",
    "- Crear el Dataframe sólo con los países de Europa.\n",
    "- Quedarnos únicamente con Data Analyst y con Business Intelligence "
   ]
  },
  {
   "cell_type": "code",
   "execution_count": 18,
   "metadata": {},
   "outputs": [
    {
     "data": {
      "text/html": [
       "<div>\n",
       "<style scoped>\n",
       "    .dataframe tbody tr th:only-of-type {\n",
       "        vertical-align: middle;\n",
       "    }\n",
       "\n",
       "    .dataframe tbody tr th {\n",
       "        vertical-align: top;\n",
       "    }\n",
       "\n",
       "    .dataframe thead th {\n",
       "        text-align: right;\n",
       "    }\n",
       "</style>\n",
       "<table border=\"1\" class=\"dataframe\">\n",
       "  <thead>\n",
       "    <tr style=\"text-align: right;\">\n",
       "      <th></th>\n",
       "      <th>id_survey</th>\n",
       "      <th>time</th>\n",
       "      <th>age</th>\n",
       "      <th>gender</th>\n",
       "      <th>country</th>\n",
       "      <th>studies</th>\n",
       "      <th>position</th>\n",
       "      <th>years_programming</th>\n",
       "      <th>preferred_language</th>\n",
       "      <th>computing_platform</th>\n",
       "      <th>times_use_tpu</th>\n",
       "      <th>years_use_ml</th>\n",
       "      <th>industry</th>\n",
       "      <th>company_size</th>\n",
       "      <th>da_employees</th>\n",
       "      <th>company_ml</th>\n",
       "      <th>year_salary</th>\n",
       "      <th>investment_ml</th>\n",
       "      <th>main_bd</th>\n",
       "      <th>main_bi</th>\n",
       "      <th>main_da</th>\n",
       "      <th>duties</th>\n",
       "      <th>best_cloud_services</th>\n",
       "      <th>regular_automl_a</th>\n",
       "      <th>data_storage_products_b</th>\n",
       "    </tr>\n",
       "  </thead>\n",
       "  <tbody>\n",
       "    <tr>\n",
       "      <th>5841</th>\n",
       "      <td>5841</td>\n",
       "      <td>370</td>\n",
       "      <td>25-29</td>\n",
       "      <td>Man</td>\n",
       "      <td>Portugal</td>\n",
       "      <td>Master’s degree</td>\n",
       "      <td>Data Analyst</td>\n",
       "      <td>Junior</td>\n",
       "      <td>Python</td>\n",
       "      <td>A personal computer / desktop</td>\n",
       "      <td>Never</td>\n",
       "      <td>&lt; 1</td>\n",
       "      <td>Academics/Education</td>\n",
       "      <td>Startup</td>\n",
       "      <td>0</td>\n",
       "      <td>Don´t know</td>\n",
       "      <td>0-999</td>\n",
       "      <td>0</td>\n",
       "      <td>unknown</td>\n",
       "      <td>unknown</td>\n",
       "      <td>Local development environments</td>\n",
       "      <td>Analyze and understand data to influence produ...</td>\n",
       "      <td>unknown</td>\n",
       "      <td>unknown</td>\n",
       "      <td>unknown</td>\n",
       "    </tr>\n",
       "  </tbody>\n",
       "</table>\n",
       "</div>"
      ],
      "text/plain": [
       "      id_survey  time    age gender   country          studies      position  \\\n",
       "5841       5841   370  25-29    Man  Portugal  Master’s degree  Data Analyst   \n",
       "\n",
       "     years_programming preferred_language             computing_platform  \\\n",
       "5841            Junior             Python  A personal computer / desktop   \n",
       "\n",
       "     times_use_tpu years_use_ml             industry company_size  \\\n",
       "5841         Never          < 1  Academics/Education      Startup   \n",
       "\n",
       "     da_employees  company_ml year_salary investment_ml  main_bd  main_bi  \\\n",
       "5841            0  Don´t know       0-999             0  unknown  unknown   \n",
       "\n",
       "                             main_da  \\\n",
       "5841  Local development environments   \n",
       "\n",
       "                                                 duties best_cloud_services  \\\n",
       "5841  Analyze and understand data to influence produ...             unknown   \n",
       "\n",
       "     regular_automl_a data_storage_products_b  \n",
       "5841          unknown                 unknown  "
      ]
     },
     "execution_count": 18,
     "metadata": {},
     "output_type": "execute_result"
    }
   ],
   "source": [
    "df = pd.read_pickle('archivos_resultantes/dataframe_graficas.pkl')\n",
    "df.sample(1)"
   ]
  },
  {
   "cell_type": "code",
   "execution_count": 12,
   "metadata": {},
   "outputs": [
    {
     "data": {
      "text/html": [
       "<div>\n",
       "<style scoped>\n",
       "    .dataframe tbody tr th:only-of-type {\n",
       "        vertical-align: middle;\n",
       "    }\n",
       "\n",
       "    .dataframe tbody tr th {\n",
       "        vertical-align: top;\n",
       "    }\n",
       "\n",
       "    .dataframe thead th {\n",
       "        text-align: right;\n",
       "    }\n",
       "</style>\n",
       "<table border=\"1\" class=\"dataframe\">\n",
       "  <thead>\n",
       "    <tr style=\"text-align: right;\">\n",
       "      <th></th>\n",
       "      <th>id_survey</th>\n",
       "      <th>programming_languages</th>\n",
       "      <th>ide</th>\n",
       "      <th>hardware</th>\n",
       "      <th>visualization</th>\n",
       "      <th>ml_tools</th>\n",
       "      <th>ml_algorithm</th>\n",
       "      <th>bd_a</th>\n",
       "      <th>bi</th>\n",
       "      <th>notebooks</th>\n",
       "      <th>computer_vision</th>\n",
       "      <th>nlp</th>\n",
       "      <th>cloud_platforms_a</th>\n",
       "      <th>cloud_product_a</th>\n",
       "      <th>data_storage_products_a</th>\n",
       "      <th>ml_products_a</th>\n",
       "      <th>automated_ml_tools_a</th>\n",
       "      <th>ml_experiments_a</th>\n",
       "      <th>sharing</th>\n",
       "      <th>courses</th>\n",
       "      <th>media</th>\n",
       "      <th>cloud_platforms_b</th>\n",
       "      <th>cloud_products_b</th>\n",
       "      <th>ml_products_b</th>\n",
       "      <th>bd_b</th>\n",
       "      <th>bi_b</th>\n",
       "      <th>automated_ml_tools_b</th>\n",
       "      <th>regular_automl_b</th>\n",
       "      <th>ml_experiments_b</th>\n",
       "    </tr>\n",
       "  </thead>\n",
       "  <tbody>\n",
       "    <tr>\n",
       "      <th>16</th>\n",
       "      <td>16</td>\n",
       "      <td>[Python,  SQL]</td>\n",
       "      <td>[Jupyter  , Jupyter Notebook]</td>\n",
       "      <td>[None]</td>\n",
       "      <td>[Matplotlib , Seaborn , Plotly / Plotly Express]</td>\n",
       "      <td>[Scikit-learn]</td>\n",
       "      <td>[Linear or Logistic Regression]</td>\n",
       "      <td>[unknown]</td>\n",
       "      <td>[unknown]</td>\n",
       "      <td>[Kaggle Notebooks, Colab Notebooks,  Databrick...</td>\n",
       "      <td>[unknown]</td>\n",
       "      <td>[unknown]</td>\n",
       "      <td>[unknown]</td>\n",
       "      <td>[unknown]</td>\n",
       "      <td>[unknown]</td>\n",
       "      <td>[unknown]</td>\n",
       "      <td>[unknown]</td>\n",
       "      <td>[unknown]</td>\n",
       "      <td>[unknown]</td>\n",
       "      <td>[Coursera, Kaggle Learn Courses, Cloud-certifi...</td>\n",
       "      <td>[Kaggle , Blogs]</td>\n",
       "      <td>[IBM Cloud / Red Hat]</td>\n",
       "      <td>[unknown]</td>\n",
       "      <td>[Databricks]</td>\n",
       "      <td>[Microsoft Azure SQL Database]</td>\n",
       "      <td>[Microsoft Power BI, Google Data Studio, Table...</td>\n",
       "      <td>[Automated data augmentation , Automated featu...</td>\n",
       "      <td>[Google Cloud AutoML ,  H2O Driverless AI  ,  ...</td>\n",
       "      <td>[Neptune.ai ,  Weights &amp; Biases ,  Comet.ml , ...</td>\n",
       "    </tr>\n",
       "  </tbody>\n",
       "</table>\n",
       "</div>"
      ],
      "text/plain": [
       "    id_survey programming_languages                            ide hardware  \\\n",
       "16         16        [Python,  SQL]  [Jupyter  , Jupyter Notebook]   [None]   \n",
       "\n",
       "                                       visualization        ml_tools  \\\n",
       "16  [Matplotlib , Seaborn , Plotly / Plotly Express]  [Scikit-learn]   \n",
       "\n",
       "                       ml_algorithm       bd_a         bi  \\\n",
       "16  [Linear or Logistic Regression]  [unknown]  [unknown]   \n",
       "\n",
       "                                            notebooks computer_vision  \\\n",
       "16  [Kaggle Notebooks, Colab Notebooks,  Databrick...       [unknown]   \n",
       "\n",
       "          nlp cloud_platforms_a cloud_product_a data_storage_products_a  \\\n",
       "16  [unknown]         [unknown]       [unknown]               [unknown]   \n",
       "\n",
       "   ml_products_a automated_ml_tools_a ml_experiments_a    sharing  \\\n",
       "16     [unknown]            [unknown]        [unknown]  [unknown]   \n",
       "\n",
       "                                              courses             media  \\\n",
       "16  [Coursera, Kaggle Learn Courses, Cloud-certifi...  [Kaggle , Blogs]   \n",
       "\n",
       "        cloud_platforms_b cloud_products_b ml_products_b  \\\n",
       "16  [IBM Cloud / Red Hat]        [unknown]  [Databricks]   \n",
       "\n",
       "                              bd_b  \\\n",
       "16  [Microsoft Azure SQL Database]   \n",
       "\n",
       "                                                 bi_b  \\\n",
       "16  [Microsoft Power BI, Google Data Studio, Table...   \n",
       "\n",
       "                                 automated_ml_tools_b  \\\n",
       "16  [Automated data augmentation , Automated featu...   \n",
       "\n",
       "                                     regular_automl_b  \\\n",
       "16  [Google Cloud AutoML ,  H2O Driverless AI  ,  ...   \n",
       "\n",
       "                                     ml_experiments_b  \n",
       "16  [Neptune.ai ,  Weights & Biases ,  Comet.ml , ...  "
      ]
     },
     "execution_count": 12,
     "metadata": {},
     "output_type": "execute_result"
    }
   ],
   "source": [
    "df_explode = pd.read_pickle('archivos_resultantes/dataframe_graficas_explode.pkl')\n",
    "df_explode.head(1)"
   ]
  },
  {
   "cell_type": "markdown",
   "metadata": {},
   "source": [
    "### Gráfico brecha de género."
   ]
  },
  {
   "cell_type": "code",
   "execution_count": 13,
   "metadata": {},
   "outputs": [
    {
     "data": {
      "image/png": "[encoded data removed]",
      "text/plain": [
       "<Figure size 432x288 with 1 Axes>"
      ]
     },
     "metadata": {},
     "output_type": "display_data"
    }
   ],
   "source": [
    "plt.figure()\n",
    "plt.pie(df['gender'].value_counts()[:3],labels= df['gender'].value_counts().index[:3],autopct='%1.1f%%',  colors = ['darkgrey','turquoise','orchid']);\n",
    "plt.title('Mujeres en el sector');"
   ]
  },
  {
   "cell_type": "markdown",
   "metadata": {},
   "source": [
    "Como se puede observar, hay una gran mayoría de hombres en el sector de análisis de datos."
   ]
  },
  {
   "cell_type": "markdown",
   "metadata": {},
   "source": [
    "### Años programando por género"
   ]
  },
  {
   "cell_type": "code",
   "execution_count": 20,
   "metadata": {},
   "outputs": [
    {
     "data": {
      "text/html": [
       "<div>\n",
       "<style scoped>\n",
       "    .dataframe tbody tr th:only-of-type {\n",
       "        vertical-align: middle;\n",
       "    }\n",
       "\n",
       "    .dataframe tbody tr th {\n",
       "        vertical-align: top;\n",
       "    }\n",
       "\n",
       "    .dataframe thead th {\n",
       "        text-align: right;\n",
       "    }\n",
       "</style>\n",
       "<table border=\"1\" class=\"dataframe\">\n",
       "  <thead>\n",
       "    <tr style=\"text-align: right;\">\n",
       "      <th></th>\n",
       "      <th>years_programming</th>\n",
       "      <th>gender</th>\n",
       "      <th>count</th>\n",
       "      <th>percent</th>\n",
       "      <th>cumulative_count</th>\n",
       "      <th>cumulative_percent</th>\n",
       "    </tr>\n",
       "  </thead>\n",
       "  <tbody>\n",
       "    <tr>\n",
       "      <th>0</th>\n",
       "      <td>Junior</td>\n",
       "      <td>Man</td>\n",
       "      <td>234</td>\n",
       "      <td>42.010772</td>\n",
       "      <td>234</td>\n",
       "      <td>42.010772</td>\n",
       "    </tr>\n",
       "    <tr>\n",
       "      <th>1</th>\n",
       "      <td>Architect</td>\n",
       "      <td>Man</td>\n",
       "      <td>76</td>\n",
       "      <td>13.644524</td>\n",
       "      <td>310</td>\n",
       "      <td>55.655296</td>\n",
       "    </tr>\n",
       "    <tr>\n",
       "      <th>2</th>\n",
       "      <td>Mid-level</td>\n",
       "      <td>Man</td>\n",
       "      <td>68</td>\n",
       "      <td>12.208259</td>\n",
       "      <td>378</td>\n",
       "      <td>67.863555</td>\n",
       "    </tr>\n",
       "    <tr>\n",
       "      <th>3</th>\n",
       "      <td>Junior</td>\n",
       "      <td>Woman</td>\n",
       "      <td>65</td>\n",
       "      <td>11.669659</td>\n",
       "      <td>443</td>\n",
       "      <td>79.533214</td>\n",
       "    </tr>\n",
       "    <tr>\n",
       "      <th>4</th>\n",
       "      <td>Senior</td>\n",
       "      <td>Man</td>\n",
       "      <td>40</td>\n",
       "      <td>7.181329</td>\n",
       "      <td>483</td>\n",
       "      <td>86.714542</td>\n",
       "    </tr>\n",
       "    <tr>\n",
       "      <th>5</th>\n",
       "      <td>No code</td>\n",
       "      <td>Man</td>\n",
       "      <td>18</td>\n",
       "      <td>3.231598</td>\n",
       "      <td>501</td>\n",
       "      <td>89.946140</td>\n",
       "    </tr>\n",
       "    <tr>\n",
       "      <th>6</th>\n",
       "      <td>Mid-level</td>\n",
       "      <td>Woman</td>\n",
       "      <td>15</td>\n",
       "      <td>2.692998</td>\n",
       "      <td>516</td>\n",
       "      <td>92.639138</td>\n",
       "    </tr>\n",
       "    <tr>\n",
       "      <th>7</th>\n",
       "      <td>Architect</td>\n",
       "      <td>Woman</td>\n",
       "      <td>13</td>\n",
       "      <td>2.333932</td>\n",
       "      <td>529</td>\n",
       "      <td>94.973070</td>\n",
       "    </tr>\n",
       "    <tr>\n",
       "      <th>8</th>\n",
       "      <td>Senior</td>\n",
       "      <td>Woman</td>\n",
       "      <td>12</td>\n",
       "      <td>2.154399</td>\n",
       "      <td>541</td>\n",
       "      <td>97.127469</td>\n",
       "    </tr>\n",
       "    <tr>\n",
       "      <th>9</th>\n",
       "      <td>No code</td>\n",
       "      <td>Woman</td>\n",
       "      <td>9</td>\n",
       "      <td>1.615799</td>\n",
       "      <td>550</td>\n",
       "      <td>98.743268</td>\n",
       "    </tr>\n",
       "    <tr>\n",
       "      <th>10</th>\n",
       "      <td>Junior</td>\n",
       "      <td>Prefer not to say</td>\n",
       "      <td>2</td>\n",
       "      <td>0.359066</td>\n",
       "      <td>552</td>\n",
       "      <td>99.102334</td>\n",
       "    </tr>\n",
       "    <tr>\n",
       "      <th>11</th>\n",
       "      <td>Mid-level</td>\n",
       "      <td>Prefer not to say</td>\n",
       "      <td>1</td>\n",
       "      <td>0.179533</td>\n",
       "      <td>553</td>\n",
       "      <td>99.281867</td>\n",
       "    </tr>\n",
       "    <tr>\n",
       "      <th>12</th>\n",
       "      <td>Junior</td>\n",
       "      <td>Prefer to self-describe</td>\n",
       "      <td>1</td>\n",
       "      <td>0.179533</td>\n",
       "      <td>554</td>\n",
       "      <td>99.461400</td>\n",
       "    </tr>\n",
       "    <tr>\n",
       "      <th>13</th>\n",
       "      <td>Junior</td>\n",
       "      <td>Nonbinary</td>\n",
       "      <td>1</td>\n",
       "      <td>0.179533</td>\n",
       "      <td>555</td>\n",
       "      <td>99.640934</td>\n",
       "    </tr>\n",
       "    <tr>\n",
       "      <th>14</th>\n",
       "      <td>Architect</td>\n",
       "      <td>Prefer to self-describe</td>\n",
       "      <td>1</td>\n",
       "      <td>0.179533</td>\n",
       "      <td>556</td>\n",
       "      <td>99.820467</td>\n",
       "    </tr>\n",
       "    <tr>\n",
       "      <th>15</th>\n",
       "      <td>Architect</td>\n",
       "      <td>Prefer not to say</td>\n",
       "      <td>1</td>\n",
       "      <td>0.179533</td>\n",
       "      <td>557</td>\n",
       "      <td>100.000000</td>\n",
       "    </tr>\n",
       "  </tbody>\n",
       "</table>\n",
       "</div>"
      ],
      "text/plain": [
       "   years_programming                   gender  count    percent  \\\n",
       "0             Junior                      Man    234  42.010772   \n",
       "1          Architect                      Man     76  13.644524   \n",
       "2          Mid-level                      Man     68  12.208259   \n",
       "3             Junior                    Woman     65  11.669659   \n",
       "4             Senior                      Man     40   7.181329   \n",
       "5            No code                      Man     18   3.231598   \n",
       "6          Mid-level                    Woman     15   2.692998   \n",
       "7          Architect                    Woman     13   2.333932   \n",
       "8             Senior                    Woman     12   2.154399   \n",
       "9            No code                    Woman      9   1.615799   \n",
       "10            Junior        Prefer not to say      2   0.359066   \n",
       "11         Mid-level        Prefer not to say      1   0.179533   \n",
       "12            Junior  Prefer to self-describe      1   0.179533   \n",
       "13            Junior                Nonbinary      1   0.179533   \n",
       "14         Architect  Prefer to self-describe      1   0.179533   \n",
       "15         Architect        Prefer not to say      1   0.179533   \n",
       "\n",
       "    cumulative_count  cumulative_percent  \n",
       "0                234           42.010772  \n",
       "1                310           55.655296  \n",
       "2                378           67.863555  \n",
       "3                443           79.533214  \n",
       "4                483           86.714542  \n",
       "5                501           89.946140  \n",
       "6                516           92.639138  \n",
       "7                529           94.973070  \n",
       "8                541           97.127469  \n",
       "9                550           98.743268  \n",
       "10               552           99.102334  \n",
       "11               553           99.281867  \n",
       "12               554           99.461400  \n",
       "13               555           99.640934  \n",
       "14               556           99.820467  \n",
       "15               557          100.000000  "
      ]
     },
     "execution_count": 20,
     "metadata": {},
     "output_type": "execute_result"
    }
   ],
   "source": [
    "df.stb.freq(['years_programming','gender'])"
   ]
  },
  {
   "cell_type": "code",
   "execution_count": 50,
   "metadata": {},
   "outputs": [],
   "source": [
    "lista_años_programando = ['Junior','Mid-level','Senior','Architect','No code']"
   ]
  },
  {
   "cell_type": "code",
   "execution_count": 51,
   "metadata": {},
   "outputs": [
    {
     "data": {
      "image/png": "[encoded data removed]",
      "text/plain": [
       "<Figure size 432x288 with 1 Axes>"
      ]
     },
     "metadata": {
      "needs_background": "light"
     },
     "output_type": "display_data"
    }
   ],
   "source": [
    "sns.countplot(x='years_programming',hue='gender',data=df,order=lista_años_programando);"
   ]
  },
  {
   "cell_type": "markdown",
   "metadata": {},
   "source": [
    "### Lenguajes de programación favoritos"
   ]
  },
  {
   "cell_type": "code",
   "execution_count": 21,
   "metadata": {},
   "outputs": [
    {
     "data": {
      "image/png": "[encoded data removed]",
      "text/plain": [
       "<Figure size 432x288 with 1 Axes>"
      ]
     },
     "metadata": {
      "needs_background": "light"
     },
     "output_type": "display_data"
    }
   ],
   "source": [
    "sns.countplot(x='preferred_language',hue='position',data=df);"
   ]
  },
  {
   "cell_type": "markdown",
   "metadata": {},
   "source": [
    "### Salarios"
   ]
  },
  {
   "cell_type": "code",
   "execution_count": 35,
   "metadata": {},
   "outputs": [
    {
     "data": {
      "image/png": "[encoded data removed]",
      "text/plain": [
       "<Figure size 2880x360 with 1 Axes>"
      ]
     },
     "metadata": {
      "needs_background": "light"
     },
     "output_type": "display_data"
    }
   ],
   "source": [
    "plt.figure(figsize= (40,5))\n",
    "sns.countplot(x='year_salary', hue='gender', data=df);"
   ]
  },
  {
   "cell_type": "markdown",
   "metadata": {},
   "source": [
    "### Años programando"
   ]
  },
  {
   "cell_type": "code",
   "execution_count": 49,
   "metadata": {},
   "outputs": [
    {
     "data": {
      "image/png": "[encoded data removed]",
      "text/plain": [
       "<Figure size 432x288 with 1 Axes>"
      ]
     },
     "metadata": {
      "needs_background": "light"
     },
     "output_type": "display_data"
    }
   ],
   "source": [
    "sns.countplot(x='years_programming',hue='position',data=df,order=lista_años_programando);"
   ]
  },
  {
   "cell_type": "markdown",
   "metadata": {},
   "source": [
    "### Estudios"
   ]
  },
  {
   "cell_type": "code",
   "execution_count": 45,
   "metadata": {},
   "outputs": [],
   "source": [
    "lista_estudios = ['Master’s degree','Bachelor’s degree','Doctoral degree','University study, no bachelor','High school','Not answer','Professional doctorate']"
   ]
  },
  {
   "cell_type": "code",
   "execution_count": 46,
   "metadata": {},
   "outputs": [
    {
     "data": {
      "image/png": "[encoded data removed]",
      "text/plain": [
       "<Figure size 1080x360 with 1 Axes>"
      ]
     },
     "metadata": {
      "needs_background": "light"
     },
     "output_type": "display_data"
    }
   ],
   "source": [
    "plt.figure(figsize= (15,5))\n",
    "sns.countplot(x='studies',hue='position',data=df,order=lista_estudios);"
   ]
  },
  {
   "cell_type": "markdown",
   "metadata": {},
   "source": [
    "### Edad por género"
   ]
  },
  {
   "cell_type": "code",
   "execution_count": 40,
   "metadata": {},
   "outputs": [],
   "source": [
    "lista_años = ['18-21','22-24','25-29','30-34','35-39','40-44','45-49','50-54','55-59','60-69']"
   ]
  },
  {
   "cell_type": "code",
   "execution_count": 43,
   "metadata": {},
   "outputs": [
    {
     "data": {
      "image/png": "[encoded data removed]",
      "text/plain": [
       "<Figure size 720x216 with 1 Axes>"
      ]
     },
     "metadata": {
      "needs_background": "light"
     },
     "output_type": "display_data"
    }
   ],
   "source": [
    "plt.figure(figsize= (10,3))\n",
    "sns.countplot(x='age',hue='gender',data=df,order=lista_años);"
   ]
  },
  {
   "cell_type": "code",
   "execution_count": null,
   "metadata": {},
   "outputs": [],
   "source": []
  }
 ],
 "metadata": {
  "kernelspec": {
   "display_name": "Python 3",
   "language": "python",
   "name": "python3"
  },
  "language_info": {
   "codemirror_mode": {
    "name": "ipython",
    "version": 3
   },
   "file_extension": ".py",
   "mimetype": "text/x-python",
   "name": "python",
   "nbconvert_exporter": "python",
   "pygments_lexer": "ipython3",
   "version": "3.9.7"
  },
  "orig_nbformat": 4
 },
 "nbformat": 4,
 "nbformat_minor": 2
}
