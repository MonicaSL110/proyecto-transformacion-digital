{
 "cells": [
  {
   "cell_type": "code",
   "execution_count": null,
   "metadata": {},
   "outputs": [],
   "source": [
    "nuevas_columnas = { \"time\" : \"time\", \"age\": \"age\", \"gender\" : \"gender\", \"Q3\" : \"country\", \n",
    "                \"Q4\" : \"studies\", \"Q5\" : \"position\", \"Q6\" : \"years_programming\", \n",
    "                \"Q8\" : \"preferred_language\", \"Q11\" : \"computing_platform\", \"Q13\": \"times_use_tpu\",\n",
    "                \"Q15\" : \"years_use_ml\", \"Q20\" : \"industry\", \"Q21\" : \"company_size\", \n",
    "                \"Q22\" : \"da_employees\", \"Q23\" : \"company_ml\", \"Q25\" : \"year_salary\",          \n",
    "                \"Q26\" : \"investment_ml\", \"Q33\" : \"main_bd\", \"Q35\" : \"main_bi\",\n",
    "                \"Q41\" : \"main_da\", \"Q7\" : \"programming_languages\", \"Q9\" : \"ide\", \n",
    "                \"Q12\" : \"hardware\", \"Q14\" : \"visualization\", \"Q16\" : \"ml_tools\",\n",
    "                \"Q17\" : \"ml_algorithm\", \"Q24\" : \"duties\", \"Q32\": \"bd\", \"Q34\" : \"bi\"\n",
    "                \"Q28\" : \"best_cloud_services\", \"Q10\" : \"notebooks\", \"Q18\" : \"computer_vision\"\n",
    "                \"Q19\" : \"nlp\", \"Q27-A\" : \"cloud_platforms_A\", \"Q29-A\": \"cloud_products_A\", \n",
    "                \"Q30-A\" : \"data_storage_products_A\", \"Q31-A\" : \"ml_products_A\", \"Q36-A\" : \"automated_ml_tools_A\",\n",
    "                \"Q37-A\" : \"regular_automated_ml_A\", }"
   ]
  }
 ],
 "metadata": {
  "language_info": {
   "name": "python"
  },
  "orig_nbformat": 4
 },
 "nbformat": 4,
 "nbformat_minor": 2
}
